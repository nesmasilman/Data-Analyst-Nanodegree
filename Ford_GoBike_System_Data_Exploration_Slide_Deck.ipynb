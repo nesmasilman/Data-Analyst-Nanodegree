{
 "cells": [
  {
   "cell_type": "markdown",
   "metadata": {
    "slideshow": {
     "slide_type": "slide"
    }
   },
   "source": [
    "# Ford GoBike System Data Exploration Presentation\n",
    "## by Nesma Silman"
   ]
  },
  {
   "cell_type": "code",
   "execution_count": 1,
   "metadata": {
    "slideshow": {
     "slide_type": "skip"
    }
   },
   "outputs": [],
   "source": [
    "# import all packages and set plots to be embedded inline\n",
    "import numpy as np\n",
    "import pandas as pd\n",
    "import matplotlib.pyplot as plt\n",
    "import seaborn as sb\n",
    "\n",
    "%matplotlib inline"
   ]
  },
  {
   "cell_type": "code",
   "execution_count": 2,
   "metadata": {
    "slideshow": {
     "slide_type": "skip"
    }
   },
   "outputs": [],
   "source": [
    "#!pip install seaborn --upgrade"
   ]
  },
  {
   "cell_type": "markdown",
   "metadata": {
    "slideshow": {
     "slide_type": "slide"
    }
   },
   "source": [
    "## Investigation Overview\n",
    "\n",
    "> This presentation aims to displaying the conclusion of the analysis done on Ford GoBike System Data Exploration notebook.\n",
    "\n",
    "## Dataset Overview\n",
    "\n",
    "> This data set includes information about individual rides made in a bike-sharing system covering the greater San Francisco Bay area during 2019."
   ]
  },
  {
   "cell_type": "code",
   "execution_count": 3,
   "metadata": {
    "slideshow": {
     "slide_type": "skip"
    }
   },
   "outputs": [],
   "source": [
    "all_zip=[\n",
    "'201901-fordgobike-tripdata.csv.zip',\n",
    "'201902-fordgobike-tripdata.csv.zip',\n",
    "'201903-fordgobike-tripdata.csv.zip',\n",
    "'201904-fordgobike-tripdata.csv.zip',\n",
    "'201905-baywheels-tripdata.csv.zip',\n",
    "'201906-baywheels-tripdata.csv.zip',\n",
    "'201907-baywheels-tripdata.csv.zip',\n",
    "'201908-baywheels-tripdata.csv.zip',\n",
    "'201909-baywheels-tripdata.csv.zip',\n",
    "'201910-baywheels-tripdata.csv.zip',\n",
    "'201911-baywheels-tripdata.csv.zip',\n",
    "'201912-baywheels-tripdata.csv.zip']\n",
    "\n",
    "\n",
    "all_files=[\n",
    "'201901-fordgobike-tripdata.csv',\n",
    "'201902-fordgobike-tripdata.csv',\n",
    "'201903-fordgobike-tripdata.csv',\n",
    "'201904-fordgobike-tripdata.csv',\n",
    "'201905-baywheels-tripdata.csv',\n",
    "'201906-baywheels-tripdata.csv',\n",
    "'201907-baywheels-tripdata.csv',\n",
    "'201908-baywheels-tripdata.csv',\n",
    "'201909-baywheels-tripdata.csv',\n",
    "'201910-baywheels-tripdata.csv',\n",
    "'201911-baywheels-tripdata.csv',\n",
    "'201912-baywheels-tripdata.csv']\n"
   ]
  },
  {
   "cell_type": "markdown",
   "metadata": {
    "slideshow": {
     "slide_type": "skip"
    }
   },
   "source": [
    "We can loop over all files to merge all datasets into one large dataset"
   ]
  },
  {
   "cell_type": "code",
   "execution_count": 4,
   "metadata": {
    "slideshow": {
     "slide_type": "skip"
    }
   },
   "outputs": [],
   "source": [
    "import zipfile\n",
    "\n",
    "def file_open(zip_name, file_name):  \n",
    "    ### Takes a zipped folder name and the name of a csv file inside the folder and returns a dataframe with the file content ###\n",
    "    zf = zipfile.ZipFile(zip_name) \n",
    "    dt = pd.read_csv(zf.open(file_name))\n",
    "    return dt"
   ]
  },
  {
   "cell_type": "code",
   "execution_count": 5,
   "metadata": {
    "slideshow": {
     "slide_type": "skip"
    }
   },
   "outputs": [
    {
     "data": {
      "text/plain": [
       "array([ 0,  1,  2,  3,  4,  5,  6,  7,  8,  9, 10, 11])"
      ]
     },
     "execution_count": 5,
     "metadata": {},
     "output_type": "execute_result"
    }
   ],
   "source": [
    "# Now we need to iterate over all files. First, let's prepare the range we will iterate over,\n",
    "\n",
    "num=np.arange(0,12,1)\n",
    "num"
   ]
  },
  {
   "cell_type": "markdown",
   "metadata": {
    "slideshow": {
     "slide_type": "skip"
    }
   },
   "source": [
    "But before merging all datasets, we need to select only the columns that exist in all datasets. To do this, we will iterate over the column names of all datasets, save them in a list and choose only names that existed 12 times meaning that they are common in all files."
   ]
  },
  {
   "cell_type": "code",
   "execution_count": 6,
   "metadata": {
    "slideshow": {
     "slide_type": "skip"
    }
   },
   "outputs": [
    {
     "name": "stderr",
     "output_type": "stream",
     "text": [
      "/opt/conda/lib/python3.6/site-packages/IPython/core/interactiveshell.py:2901: DtypeWarning: Columns (14) have mixed types. Specify dtype option on import or set low_memory=False.\n",
      "  if self.run_code(code, result):\n",
      "/opt/conda/lib/python3.6/site-packages/IPython/core/interactiveshell.py:2901: DtypeWarning: Columns (13,14) have mixed types. Specify dtype option on import or set low_memory=False.\n",
      "  if self.run_code(code, result):\n",
      "/opt/conda/lib/python3.6/site-packages/IPython/core/interactiveshell.py:2901: DtypeWarning: Columns (13) have mixed types. Specify dtype option on import or set low_memory=False.\n",
      "  if self.run_code(code, result):\n"
     ]
    },
    {
     "data": {
      "text/plain": [
       "['duration_sec',\n",
       " 'start_time',\n",
       " 'end_time',\n",
       " 'start_station_id',\n",
       " 'start_station_name',\n",
       " 'start_station_latitude',\n",
       " 'start_station_longitude',\n",
       " 'end_station_id',\n",
       " 'end_station_name',\n",
       " 'end_station_latitude',\n",
       " 'end_station_longitude',\n",
       " 'bike_id',\n",
       " 'user_type']"
      ]
     },
     "execution_count": 6,
     "metadata": {},
     "output_type": "execute_result"
    }
   ],
   "source": [
    "colmns_lst=[]\n",
    "for i in num:\n",
    "    each=file_open(all_zip[i],all_files[i])\n",
    "    colmns_lst.extend(each.columns)\n",
    "\n",
    "common=[clm for clm in colmns_lst if colmns_lst.count(clm)==12]\n",
    "uniq=[]\n",
    "[uniq.append(cl) for cl in common if uniq.count(cl)==0]\n",
    "uniq"
   ]
  },
  {
   "cell_type": "markdown",
   "metadata": {
    "slideshow": {
     "slide_type": "skip"
    }
   },
   "source": [
    "Great ! Now we have a list of the 13 common column names. Then we can start iterating over each file, select only the common columns and concatenate all data. "
   ]
  },
  {
   "cell_type": "code",
   "execution_count": 7,
   "metadata": {
    "slideshow": {
     "slide_type": "skip"
    }
   },
   "outputs": [
    {
     "name": "stderr",
     "output_type": "stream",
     "text": [
      "/opt/conda/lib/python3.6/site-packages/IPython/core/interactiveshell.py:2961: DtypeWarning: Columns (14) have mixed types. Specify dtype option on import or set low_memory=False.\n",
      "  exec(code_obj, self.user_global_ns, self.user_ns)\n",
      "/opt/conda/lib/python3.6/site-packages/IPython/core/interactiveshell.py:2961: DtypeWarning: Columns (13,14) have mixed types. Specify dtype option on import or set low_memory=False.\n",
      "  exec(code_obj, self.user_global_ns, self.user_ns)\n",
      "/opt/conda/lib/python3.6/site-packages/IPython/core/interactiveshell.py:2961: DtypeWarning: Columns (13) have mixed types. Specify dtype option on import or set low_memory=False.\n",
      "  exec(code_obj, self.user_global_ns, self.user_ns)\n"
     ]
    },
    {
     "data": {
      "text/plain": [
       "2506983"
      ]
     },
     "execution_count": 7,
     "metadata": {},
     "output_type": "execute_result"
    }
   ],
   "source": [
    "df=pd.concat([file_open(all_zip[i],all_files[i])[uniq] for i in num])\n",
    "len(df)"
   ]
  },
  {
   "cell_type": "code",
   "execution_count": 8,
   "metadata": {
    "slideshow": {
     "slide_type": "skip"
    }
   },
   "outputs": [
    {
     "data": {
      "text/html": [
       "<div>\n",
       "<style scoped>\n",
       "    .dataframe tbody tr th:only-of-type {\n",
       "        vertical-align: middle;\n",
       "    }\n",
       "\n",
       "    .dataframe tbody tr th {\n",
       "        vertical-align: top;\n",
       "    }\n",
       "\n",
       "    .dataframe thead th {\n",
       "        text-align: right;\n",
       "    }\n",
       "</style>\n",
       "<table border=\"1\" class=\"dataframe\">\n",
       "  <thead>\n",
       "    <tr style=\"text-align: right;\">\n",
       "      <th></th>\n",
       "      <th>duration_sec</th>\n",
       "      <th>start_time</th>\n",
       "      <th>end_time</th>\n",
       "      <th>start_station_id</th>\n",
       "      <th>start_station_name</th>\n",
       "      <th>start_station_latitude</th>\n",
       "      <th>start_station_longitude</th>\n",
       "      <th>end_station_id</th>\n",
       "      <th>end_station_name</th>\n",
       "      <th>end_station_latitude</th>\n",
       "      <th>end_station_longitude</th>\n",
       "      <th>bike_id</th>\n",
       "      <th>user_type</th>\n",
       "    </tr>\n",
       "  </thead>\n",
       "  <tbody>\n",
       "    <tr>\n",
       "      <th>0</th>\n",
       "      <td>80825</td>\n",
       "      <td>2019-01-31 17:57:44.6130</td>\n",
       "      <td>2019-02-01 16:24:49.8640</td>\n",
       "      <td>229.0</td>\n",
       "      <td>Foothill Blvd at 42nd Ave</td>\n",
       "      <td>37.775745</td>\n",
       "      <td>-122.213037</td>\n",
       "      <td>196.0</td>\n",
       "      <td>Grand Ave at Perkins St</td>\n",
       "      <td>37.808894</td>\n",
       "      <td>-122.25646</td>\n",
       "      <td>4861</td>\n",
       "      <td>Subscriber</td>\n",
       "    </tr>\n",
       "  </tbody>\n",
       "</table>\n",
       "</div>"
      ],
      "text/plain": [
       "   duration_sec                start_time                  end_time  \\\n",
       "0         80825  2019-01-31 17:57:44.6130  2019-02-01 16:24:49.8640   \n",
       "\n",
       "   start_station_id         start_station_name  start_station_latitude  \\\n",
       "0             229.0  Foothill Blvd at 42nd Ave               37.775745   \n",
       "\n",
       "   start_station_longitude  end_station_id         end_station_name  \\\n",
       "0              -122.213037           196.0  Grand Ave at Perkins St   \n",
       "\n",
       "   end_station_latitude  end_station_longitude  bike_id   user_type  \n",
       "0             37.808894             -122.25646     4861  Subscriber  "
      ]
     },
     "execution_count": 8,
     "metadata": {},
     "output_type": "execute_result"
    }
   ],
   "source": [
    "# Now let's take a look on our large dataset,\n",
    "df.head(1)"
   ]
  },
  {
   "cell_type": "code",
   "execution_count": 9,
   "metadata": {
    "slideshow": {
     "slide_type": "skip"
    }
   },
   "outputs": [
    {
     "name": "stdout",
     "output_type": "stream",
     "text": [
      "<class 'pandas.core.frame.DataFrame'>\n",
      "Int64Index: 2506983 entries, 0 to 150101\n",
      "Data columns (total 13 columns):\n",
      "duration_sec               int64\n",
      "start_time                 object\n",
      "end_time                   object\n",
      "start_station_id           float64\n",
      "start_station_name         object\n",
      "start_station_latitude     float64\n",
      "start_station_longitude    float64\n",
      "end_station_id             float64\n",
      "end_station_name           object\n",
      "end_station_latitude       float64\n",
      "end_station_longitude      float64\n",
      "bike_id                    int64\n",
      "user_type                  object\n",
      "dtypes: float64(6), int64(2), object(5)\n",
      "memory usage: 267.8+ MB\n"
     ]
    }
   ],
   "source": [
    "# Now let's check the content of our dataset,\n",
    "\n",
    "df.info()"
   ]
  },
  {
   "cell_type": "markdown",
   "metadata": {
    "slideshow": {
     "slide_type": "skip"
    }
   },
   "source": [
    "To prepare the data for analysis, it would be useful to do the below:\n",
    "\n",
    "1) Check the missing values.\n",
    "\n",
    "2) Remove the duplicates (If any).\n",
    "\n",
    "3) split the date from time.\n",
    "\n",
    "4) add a column with month name.\n",
    "\n",
    "5) Identify the day name and number of the trip."
   ]
  },
  {
   "cell_type": "markdown",
   "metadata": {
    "slideshow": {
     "slide_type": "skip"
    }
   },
   "source": [
    "Let's see if we have missing data or not."
   ]
  },
  {
   "cell_type": "code",
   "execution_count": 10,
   "metadata": {
    "slideshow": {
     "slide_type": "skip"
    }
   },
   "outputs": [
    {
     "data": {
      "text/plain": [
       "duration_sec                   0\n",
       "start_time                     0\n",
       "end_time                       0\n",
       "start_station_id           80734\n",
       "start_station_name         80133\n",
       "start_station_latitude         0\n",
       "start_station_longitude        0\n",
       "end_station_id             82902\n",
       "end_station_name           82350\n",
       "end_station_latitude           0\n",
       "end_station_longitude          0\n",
       "bike_id                        0\n",
       "user_type                      0\n",
       "dtype: int64"
      ]
     },
     "execution_count": 10,
     "metadata": {},
     "output_type": "execute_result"
    }
   ],
   "source": [
    "df.isna().sum()"
   ]
  },
  {
   "cell_type": "code",
   "execution_count": 11,
   "metadata": {
    "slideshow": {
     "slide_type": "skip"
    }
   },
   "outputs": [],
   "source": [
    "# Now let's delete the rows that have all values NA\n",
    "df.dropna(axis=0,inplace=True, how='all')"
   ]
  },
  {
   "cell_type": "code",
   "execution_count": 12,
   "metadata": {
    "scrolled": false,
    "slideshow": {
     "slide_type": "skip"
    }
   },
   "outputs": [
    {
     "data": {
      "text/plain": [
       "duration_sec                   0\n",
       "start_time                     0\n",
       "end_time                       0\n",
       "start_station_id           80734\n",
       "start_station_name         80133\n",
       "start_station_latitude         0\n",
       "start_station_longitude        0\n",
       "end_station_id             82902\n",
       "end_station_name           82350\n",
       "end_station_latitude           0\n",
       "end_station_longitude          0\n",
       "bike_id                        0\n",
       "user_type                      0\n",
       "dtype: int64"
      ]
     },
     "execution_count": 12,
     "metadata": {},
     "output_type": "execute_result"
    }
   ],
   "source": [
    "# Let's now check again our NA status\n",
    "df.isna().sum()"
   ]
  },
  {
   "cell_type": "markdown",
   "metadata": {
    "slideshow": {
     "slide_type": "skip"
    }
   },
   "source": [
    "It seems we have rows with missing values in different columns, we need to understand in which month this data exist before we drop them in order to avoid imbalancing a certain month's data. so let's iterate over the files again to check the missing values."
   ]
  },
  {
   "cell_type": "code",
   "execution_count": 13,
   "metadata": {
    "slideshow": {
     "slide_type": "skip"
    }
   },
   "outputs": [
    {
     "name": "stdout",
     "output_type": "stream",
     "text": [
      "Dataset 1 has 0.0% missing values.\n",
      "Dataset 2 has 0.0% missing values.\n",
      "Dataset 3 has 0.0% missing values.\n",
      "Dataset 4 has 0.0% missing values.\n",
      "Dataset 5 has 0.0% missing values.\n"
     ]
    },
    {
     "name": "stderr",
     "output_type": "stream",
     "text": [
      "/opt/conda/lib/python3.6/site-packages/IPython/core/interactiveshell.py:2901: DtypeWarning: Columns (14) have mixed types. Specify dtype option on import or set low_memory=False.\n",
      "  if self.run_code(code, result):\n"
     ]
    },
    {
     "name": "stdout",
     "output_type": "stream",
     "text": [
      "Dataset 6 has 1.0% missing values.\n"
     ]
    },
    {
     "name": "stderr",
     "output_type": "stream",
     "text": [
      "/opt/conda/lib/python3.6/site-packages/IPython/core/interactiveshell.py:2901: DtypeWarning: Columns (13,14) have mixed types. Specify dtype option on import or set low_memory=False.\n",
      "  if self.run_code(code, result):\n"
     ]
    },
    {
     "name": "stdout",
     "output_type": "stream",
     "text": [
      "Dataset 7 has 22.0% missing values.\n",
      "Dataset 8 has 0.0% missing values.\n",
      "Dataset 9 has 0.0% missing values.\n",
      "Dataset 10 has 0.0% missing values.\n",
      "Dataset 11 has 1.0% missing values.\n",
      "Dataset 12 has 14.0% missing values.\n"
     ]
    },
    {
     "name": "stderr",
     "output_type": "stream",
     "text": [
      "/opt/conda/lib/python3.6/site-packages/IPython/core/interactiveshell.py:2901: DtypeWarning: Columns (13) have mixed types. Specify dtype option on import or set low_memory=False.\n",
      "  if self.run_code(code, result):\n"
     ]
    }
   ],
   "source": [
    "for i in num:\n",
    "    data=file_open(all_zip[i],all_files[i])[uniq]\n",
    "    missing=data.isna().sum().max()\n",
    "    length=len(data)\n",
    "    perc=np.round((missing*100/length),0)\n",
    "    print('Dataset {} has {}% missing values.'.format((i+1),perc))"
   ]
  },
  {
   "cell_type": "markdown",
   "metadata": {
    "slideshow": {
     "slide_type": "skip"
    }
   },
   "source": [
    "So we have a challenge with datasets 7 and 12 as the volumne of missing values is large. Let's dive deeper into their details."
   ]
  },
  {
   "cell_type": "code",
   "execution_count": 14,
   "metadata": {
    "slideshow": {
     "slide_type": "skip"
    }
   },
   "outputs": [
    {
     "name": "stdout",
     "output_type": "stream",
     "text": [
      "<class 'pandas.core.frame.DataFrame'>\n",
      "RangeIndex: 258102 entries, 0 to 258101\n",
      "Data columns (total 13 columns):\n",
      "duration_sec               258102 non-null int64\n",
      "start_time                 258102 non-null object\n",
      "end_time                   258102 non-null object\n",
      "start_station_id           202215 non-null float64\n",
      "start_station_name         202811 non-null object\n",
      "start_station_latitude     258102 non-null float64\n",
      "start_station_longitude    258102 non-null float64\n",
      "end_station_id             200526 non-null float64\n",
      "end_station_name           201076 non-null object\n",
      "end_station_latitude       258102 non-null float64\n",
      "end_station_longitude      258102 non-null float64\n",
      "bike_id                    258102 non-null int64\n",
      "user_type                  258102 non-null object\n",
      "dtypes: float64(6), int64(2), object(5)\n",
      "memory usage: 25.6+ MB\n"
     ]
    },
    {
     "name": "stderr",
     "output_type": "stream",
     "text": [
      "/opt/conda/lib/python3.6/site-packages/IPython/core/interactiveshell.py:2901: DtypeWarning: Columns (13,14) have mixed types. Specify dtype option on import or set low_memory=False.\n",
      "  if self.run_code(code, result):\n"
     ]
    }
   ],
   "source": [
    "df7=file_open(all_zip[6],all_files[6])[uniq]\n",
    "df7.info()"
   ]
  },
  {
   "cell_type": "markdown",
   "metadata": {
    "slideshow": {
     "slide_type": "skip"
    }
   },
   "source": [
    "It is obvious that the rows with some missing station data already has station latitude and longitude data, let's see if we can use the the latitude and longitude to complete the missing data."
   ]
  },
  {
   "cell_type": "code",
   "execution_count": 15,
   "metadata": {
    "slideshow": {
     "slide_type": "skip"
    }
   },
   "outputs": [
    {
     "data": {
      "text/html": [
       "<div>\n",
       "<style scoped>\n",
       "    .dataframe tbody tr th:only-of-type {\n",
       "        vertical-align: middle;\n",
       "    }\n",
       "\n",
       "    .dataframe tbody tr th {\n",
       "        vertical-align: top;\n",
       "    }\n",
       "\n",
       "    .dataframe thead th {\n",
       "        text-align: right;\n",
       "    }\n",
       "</style>\n",
       "<table border=\"1\" class=\"dataframe\">\n",
       "  <thead>\n",
       "    <tr style=\"text-align: right;\">\n",
       "      <th></th>\n",
       "      <th>duration_sec</th>\n",
       "      <th>start_time</th>\n",
       "      <th>end_time</th>\n",
       "      <th>start_station_id</th>\n",
       "      <th>start_station_name</th>\n",
       "      <th>start_station_latitude</th>\n",
       "      <th>start_station_longitude</th>\n",
       "      <th>end_station_id</th>\n",
       "      <th>end_station_name</th>\n",
       "      <th>end_station_latitude</th>\n",
       "      <th>end_station_longitude</th>\n",
       "      <th>bike_id</th>\n",
       "      <th>user_type</th>\n",
       "    </tr>\n",
       "  </thead>\n",
       "  <tbody>\n",
       "    <tr>\n",
       "      <th>258097</th>\n",
       "      <td>850</td>\n",
       "      <td>2019-07-28 11:02:37</td>\n",
       "      <td>2019-07-28 11:16:48</td>\n",
       "      <td>NaN</td>\n",
       "      <td>NaN</td>\n",
       "      <td>37.888052</td>\n",
       "      <td>-122.256561</td>\n",
       "      <td>NaN</td>\n",
       "      <td>NaN</td>\n",
       "      <td>37.870571</td>\n",
       "      <td>-122.266337</td>\n",
       "      <td>148227</td>\n",
       "      <td>Subscriber</td>\n",
       "    </tr>\n",
       "    <tr>\n",
       "      <th>258098</th>\n",
       "      <td>589</td>\n",
       "      <td>2019-07-30 09:33:52</td>\n",
       "      <td>2019-07-30 09:43:41</td>\n",
       "      <td>NaN</td>\n",
       "      <td>NaN</td>\n",
       "      <td>37.888215</td>\n",
       "      <td>-122.266832</td>\n",
       "      <td>NaN</td>\n",
       "      <td>NaN</td>\n",
       "      <td>37.869662</td>\n",
       "      <td>-122.268208</td>\n",
       "      <td>547361</td>\n",
       "      <td>Subscriber</td>\n",
       "    </tr>\n",
       "    <tr>\n",
       "      <th>258099</th>\n",
       "      <td>370</td>\n",
       "      <td>2019-07-26 12:50:49</td>\n",
       "      <td>2019-07-26 12:56:59</td>\n",
       "      <td>NaN</td>\n",
       "      <td>NaN</td>\n",
       "      <td>37.891297</td>\n",
       "      <td>-122.279522</td>\n",
       "      <td>254.0</td>\n",
       "      <td>Vine St at Shattuck Ave</td>\n",
       "      <td>37.880222</td>\n",
       "      <td>-122.269592</td>\n",
       "      <td>896256</td>\n",
       "      <td>Subscriber</td>\n",
       "    </tr>\n",
       "    <tr>\n",
       "      <th>258100</th>\n",
       "      <td>593</td>\n",
       "      <td>2019-07-30 20:26:47</td>\n",
       "      <td>2019-07-30 20:36:41</td>\n",
       "      <td>NaN</td>\n",
       "      <td>NaN</td>\n",
       "      <td>37.892187</td>\n",
       "      <td>-122.272765</td>\n",
       "      <td>NaN</td>\n",
       "      <td>NaN</td>\n",
       "      <td>37.881075</td>\n",
       "      <td>-122.270206</td>\n",
       "      <td>440004</td>\n",
       "      <td>Subscriber</td>\n",
       "    </tr>\n",
       "    <tr>\n",
       "      <th>258101</th>\n",
       "      <td>1716</td>\n",
       "      <td>2019-07-31 06:55:02</td>\n",
       "      <td>2019-07-31 07:23:39</td>\n",
       "      <td>NaN</td>\n",
       "      <td>NaN</td>\n",
       "      <td>37.895300</td>\n",
       "      <td>-122.269339</td>\n",
       "      <td>409.0</td>\n",
       "      <td>2100 Powell St</td>\n",
       "      <td>37.839543</td>\n",
       "      <td>-122.298718</td>\n",
       "      <td>512019</td>\n",
       "      <td>Subscriber</td>\n",
       "    </tr>\n",
       "  </tbody>\n",
       "</table>\n",
       "</div>"
      ],
      "text/plain": [
       "        duration_sec           start_time             end_time  \\\n",
       "258097           850  2019-07-28 11:02:37  2019-07-28 11:16:48   \n",
       "258098           589  2019-07-30 09:33:52  2019-07-30 09:43:41   \n",
       "258099           370  2019-07-26 12:50:49  2019-07-26 12:56:59   \n",
       "258100           593  2019-07-30 20:26:47  2019-07-30 20:36:41   \n",
       "258101          1716  2019-07-31 06:55:02  2019-07-31 07:23:39   \n",
       "\n",
       "        start_station_id start_station_name  start_station_latitude  \\\n",
       "258097               NaN                NaN               37.888052   \n",
       "258098               NaN                NaN               37.888215   \n",
       "258099               NaN                NaN               37.891297   \n",
       "258100               NaN                NaN               37.892187   \n",
       "258101               NaN                NaN               37.895300   \n",
       "\n",
       "        start_station_longitude  end_station_id         end_station_name  \\\n",
       "258097              -122.256561             NaN                      NaN   \n",
       "258098              -122.266832             NaN                      NaN   \n",
       "258099              -122.279522           254.0  Vine St at Shattuck Ave   \n",
       "258100              -122.272765             NaN                      NaN   \n",
       "258101              -122.269339           409.0           2100 Powell St   \n",
       "\n",
       "        end_station_latitude  end_station_longitude  bike_id   user_type  \n",
       "258097             37.870571            -122.266337   148227  Subscriber  \n",
       "258098             37.869662            -122.268208   547361  Subscriber  \n",
       "258099             37.880222            -122.269592   896256  Subscriber  \n",
       "258100             37.881075            -122.270206   440004  Subscriber  \n",
       "258101             37.839543            -122.298718   512019  Subscriber  "
      ]
     },
     "execution_count": 15,
     "metadata": {},
     "output_type": "execute_result"
    }
   ],
   "source": [
    "df7.tail()"
   ]
  },
  {
   "cell_type": "code",
   "execution_count": 16,
   "metadata": {
    "scrolled": true,
    "slideshow": {
     "slide_type": "skip"
    }
   },
   "outputs": [
    {
     "data": {
      "text/plain": [
       "55291"
      ]
     },
     "execution_count": 16,
     "metadata": {},
     "output_type": "execute_result"
    }
   ],
   "source": [
    "# Let's first get the rows with missing station values\n",
    "missing7=df7[df7['start_station_name'].isnull()]\n",
    "\n",
    "# and the rows with complete values\n",
    "complete=df7.dropna(subset=['start_station_name'],axis=0)\n",
    "\n",
    "len(missing7)"
   ]
  },
  {
   "cell_type": "markdown",
   "metadata": {
    "slideshow": {
     "slide_type": "skip"
    }
   },
   "source": [
    "We can join both datasets to see if the latitude & longitude  of the missing values exist in other records in the\n",
    "complete dataset or not."
   ]
  },
  {
   "cell_type": "code",
   "execution_count": 17,
   "metadata": {
    "slideshow": {
     "slide_type": "skip"
    }
   },
   "outputs": [
    {
     "name": "stderr",
     "output_type": "stream",
     "text": [
      "/opt/conda/lib/python3.6/site-packages/pandas/core/reshape/merge.py:963: UserWarning: You are merging on int and float columns where the float values are not equal to their int representation\n",
      "  'representation', UserWarning)\n"
     ]
    },
    {
     "data": {
      "text/html": [
       "<div>\n",
       "<style scoped>\n",
       "    .dataframe tbody tr th:only-of-type {\n",
       "        vertical-align: middle;\n",
       "    }\n",
       "\n",
       "    .dataframe tbody tr th {\n",
       "        vertical-align: top;\n",
       "    }\n",
       "\n",
       "    .dataframe thead th {\n",
       "        text-align: right;\n",
       "    }\n",
       "</style>\n",
       "<table border=\"1\" class=\"dataframe\">\n",
       "  <thead>\n",
       "    <tr style=\"text-align: right;\">\n",
       "      <th></th>\n",
       "      <th>duration_sec_ms</th>\n",
       "      <th>start_time_ms</th>\n",
       "      <th>end_time_ms</th>\n",
       "      <th>start_station_id_ms</th>\n",
       "      <th>start_station_name_ms</th>\n",
       "      <th>start_station_latitude_ms</th>\n",
       "      <th>start_station_longitude_ms</th>\n",
       "      <th>end_station_id_ms</th>\n",
       "      <th>end_station_name_ms</th>\n",
       "      <th>end_station_latitude_ms</th>\n",
       "      <th>...</th>\n",
       "      <th>start_station_id_com</th>\n",
       "      <th>start_station_name_com</th>\n",
       "      <th>start_station_latitude_com</th>\n",
       "      <th>start_station_longitude_com</th>\n",
       "      <th>end_station_id_com</th>\n",
       "      <th>end_station_name_com</th>\n",
       "      <th>end_station_latitude_com</th>\n",
       "      <th>end_station_longitude_com</th>\n",
       "      <th>bike_id_com</th>\n",
       "      <th>user_type_com</th>\n",
       "    </tr>\n",
       "  </thead>\n",
       "  <tbody>\n",
       "    <tr>\n",
       "      <th>170248</th>\n",
       "      <td>710</td>\n",
       "      <td>2019-07-18 21:48:24</td>\n",
       "      <td>2019-07-18 22:00:15</td>\n",
       "      <td>NaN</td>\n",
       "      <td>NaN</td>\n",
       "      <td>37.279518</td>\n",
       "      <td>-121.872118</td>\n",
       "      <td>NaN</td>\n",
       "      <td>NaN</td>\n",
       "      <td>37.279612</td>\n",
       "      <td>...</td>\n",
       "      <td>NaN</td>\n",
       "      <td>NaN</td>\n",
       "      <td>NaN</td>\n",
       "      <td>NaN</td>\n",
       "      <td>NaN</td>\n",
       "      <td>NaN</td>\n",
       "      <td>NaN</td>\n",
       "      <td>NaN</td>\n",
       "      <td>NaN</td>\n",
       "      <td>NaN</td>\n",
       "    </tr>\n",
       "    <tr>\n",
       "      <th>170249</th>\n",
       "      <td>684</td>\n",
       "      <td>2019-07-14 12:44:35</td>\n",
       "      <td>2019-07-14 12:56:00</td>\n",
       "      <td>NaN</td>\n",
       "      <td>NaN</td>\n",
       "      <td>37.279616</td>\n",
       "      <td>-121.872123</td>\n",
       "      <td>NaN</td>\n",
       "      <td>NaN</td>\n",
       "      <td>37.270987</td>\n",
       "      <td>...</td>\n",
       "      <td>NaN</td>\n",
       "      <td>NaN</td>\n",
       "      <td>NaN</td>\n",
       "      <td>NaN</td>\n",
       "      <td>NaN</td>\n",
       "      <td>NaN</td>\n",
       "      <td>NaN</td>\n",
       "      <td>NaN</td>\n",
       "      <td>NaN</td>\n",
       "      <td>NaN</td>\n",
       "    </tr>\n",
       "    <tr>\n",
       "      <th>170250</th>\n",
       "      <td>1112</td>\n",
       "      <td>2019-07-18 20:29:54</td>\n",
       "      <td>2019-07-18 20:48:27</td>\n",
       "      <td>NaN</td>\n",
       "      <td>NaN</td>\n",
       "      <td>37.279628</td>\n",
       "      <td>-121.872113</td>\n",
       "      <td>NaN</td>\n",
       "      <td>NaN</td>\n",
       "      <td>37.279525</td>\n",
       "      <td>...</td>\n",
       "      <td>NaN</td>\n",
       "      <td>NaN</td>\n",
       "      <td>NaN</td>\n",
       "      <td>NaN</td>\n",
       "      <td>NaN</td>\n",
       "      <td>NaN</td>\n",
       "      <td>NaN</td>\n",
       "      <td>NaN</td>\n",
       "      <td>NaN</td>\n",
       "      <td>NaN</td>\n",
       "    </tr>\n",
       "    <tr>\n",
       "      <th>170251</th>\n",
       "      <td>1234</td>\n",
       "      <td>2019-07-05 02:14:01</td>\n",
       "      <td>2019-07-05 02:34:35</td>\n",
       "      <td>NaN</td>\n",
       "      <td>NaN</td>\n",
       "      <td>37.279667</td>\n",
       "      <td>-121.872135</td>\n",
       "      <td>NaN</td>\n",
       "      <td>NaN</td>\n",
       "      <td>37.279677</td>\n",
       "      <td>...</td>\n",
       "      <td>NaN</td>\n",
       "      <td>NaN</td>\n",
       "      <td>NaN</td>\n",
       "      <td>NaN</td>\n",
       "      <td>NaN</td>\n",
       "      <td>NaN</td>\n",
       "      <td>NaN</td>\n",
       "      <td>NaN</td>\n",
       "      <td>NaN</td>\n",
       "      <td>NaN</td>\n",
       "    </tr>\n",
       "    <tr>\n",
       "      <th>170252</th>\n",
       "      <td>439</td>\n",
       "      <td>2019-07-17 17:46:15</td>\n",
       "      <td>2019-07-17 17:53:35</td>\n",
       "      <td>NaN</td>\n",
       "      <td>NaN</td>\n",
       "      <td>37.280259</td>\n",
       "      <td>-121.884220</td>\n",
       "      <td>NaN</td>\n",
       "      <td>NaN</td>\n",
       "      <td>37.290978</td>\n",
       "      <td>...</td>\n",
       "      <td>NaN</td>\n",
       "      <td>NaN</td>\n",
       "      <td>NaN</td>\n",
       "      <td>NaN</td>\n",
       "      <td>NaN</td>\n",
       "      <td>NaN</td>\n",
       "      <td>NaN</td>\n",
       "      <td>NaN</td>\n",
       "      <td>NaN</td>\n",
       "      <td>NaN</td>\n",
       "    </tr>\n",
       "  </tbody>\n",
       "</table>\n",
       "<p>5 rows × 26 columns</p>\n",
       "</div>"
      ],
      "text/plain": [
       "        duration_sec_ms        start_time_ms          end_time_ms  \\\n",
       "170248              710  2019-07-18 21:48:24  2019-07-18 22:00:15   \n",
       "170249              684  2019-07-14 12:44:35  2019-07-14 12:56:00   \n",
       "170250             1112  2019-07-18 20:29:54  2019-07-18 20:48:27   \n",
       "170251             1234  2019-07-05 02:14:01  2019-07-05 02:34:35   \n",
       "170252              439  2019-07-17 17:46:15  2019-07-17 17:53:35   \n",
       "\n",
       "        start_station_id_ms start_station_name_ms  start_station_latitude_ms  \\\n",
       "170248                  NaN                   NaN                  37.279518   \n",
       "170249                  NaN                   NaN                  37.279616   \n",
       "170250                  NaN                   NaN                  37.279628   \n",
       "170251                  NaN                   NaN                  37.279667   \n",
       "170252                  NaN                   NaN                  37.280259   \n",
       "\n",
       "        start_station_longitude_ms  end_station_id_ms end_station_name_ms  \\\n",
       "170248                 -121.872118                NaN                 NaN   \n",
       "170249                 -121.872123                NaN                 NaN   \n",
       "170250                 -121.872113                NaN                 NaN   \n",
       "170251                 -121.872135                NaN                 NaN   \n",
       "170252                 -121.884220                NaN                 NaN   \n",
       "\n",
       "        end_station_latitude_ms      ...        start_station_id_com  \\\n",
       "170248                37.279612      ...                         NaN   \n",
       "170249                37.270987      ...                         NaN   \n",
       "170250                37.279525      ...                         NaN   \n",
       "170251                37.279677      ...                         NaN   \n",
       "170252                37.290978      ...                         NaN   \n",
       "\n",
       "        start_station_name_com start_station_latitude_com  \\\n",
       "170248                     NaN                        NaN   \n",
       "170249                     NaN                        NaN   \n",
       "170250                     NaN                        NaN   \n",
       "170251                     NaN                        NaN   \n",
       "170252                     NaN                        NaN   \n",
       "\n",
       "        start_station_longitude_com end_station_id_com end_station_name_com  \\\n",
       "170248                          NaN                NaN                  NaN   \n",
       "170249                          NaN                NaN                  NaN   \n",
       "170250                          NaN                NaN                  NaN   \n",
       "170251                          NaN                NaN                  NaN   \n",
       "170252                          NaN                NaN                  NaN   \n",
       "\n",
       "        end_station_latitude_com end_station_longitude_com  bike_id_com  \\\n",
       "170248                       NaN                       NaN          NaN   \n",
       "170249                       NaN                       NaN          NaN   \n",
       "170250                       NaN                       NaN          NaN   \n",
       "170251                       NaN                       NaN          NaN   \n",
       "170252                       NaN                       NaN          NaN   \n",
       "\n",
       "        user_type_com  \n",
       "170248            NaN  \n",
       "170249            NaN  \n",
       "170250            NaN  \n",
       "170251            NaN  \n",
       "170252            NaN  \n",
       "\n",
       "[5 rows x 26 columns]"
      ]
     },
     "execution_count": 17,
     "metadata": {},
     "output_type": "execute_result"
    }
   ],
   "source": [
    "jn7=missing7.join(complete, on='start_station_latitude',lsuffix='_ms', rsuffix='_com', how='left')\n",
    "jn7.head()"
   ]
  },
  {
   "cell_type": "code",
   "execution_count": 18,
   "metadata": {
    "slideshow": {
     "slide_type": "skip"
    }
   },
   "outputs": [
    {
     "data": {
      "text/plain": [
       "55291"
      ]
     },
     "execution_count": 18,
     "metadata": {},
     "output_type": "execute_result"
    }
   ],
   "source": [
    "# Now let's check the joined dataframe, how many data is still missing,\n",
    "jn7['start_station_name_com'].isna().sum()"
   ]
  },
  {
   "cell_type": "markdown",
   "metadata": {
    "slideshow": {
     "slide_type": "skip"
    }
   },
   "source": [
    "Mmm, it seems that the latitude of the rows with missing data is not present in the complete rows, so in this case we will have to drop the columns with missing values which are below:\n",
    "\n",
    "start_station_id\n",
    "\n",
    "start_station_name\n",
    "\n",
    "end_station_id\n",
    "\n",
    "end_station_name"
   ]
  },
  {
   "cell_type": "markdown",
   "metadata": {
    "slideshow": {
     "slide_type": "skip"
    }
   },
   "source": [
    "Now let's move on to dataset 12"
   ]
  },
  {
   "cell_type": "code",
   "execution_count": 19,
   "metadata": {
    "slideshow": {
     "slide_type": "skip"
    }
   },
   "outputs": [
    {
     "name": "stdout",
     "output_type": "stream",
     "text": [
      "<class 'pandas.core.frame.DataFrame'>\n",
      "RangeIndex: 150102 entries, 0 to 150101\n",
      "Data columns (total 13 columns):\n",
      "duration_sec               150102 non-null int64\n",
      "start_time                 150102 non-null object\n",
      "end_time                   150102 non-null object\n",
      "start_station_id           129083 non-null float64\n",
      "start_station_name         129087 non-null object\n",
      "start_station_latitude     150102 non-null float64\n",
      "start_station_longitude    150102 non-null float64\n",
      "end_station_id             128755 non-null float64\n",
      "end_station_name           128757 non-null object\n",
      "end_station_latitude       150102 non-null float64\n",
      "end_station_longitude      150102 non-null float64\n",
      "bike_id                    150102 non-null int64\n",
      "user_type                  150102 non-null object\n",
      "dtypes: float64(6), int64(2), object(5)\n",
      "memory usage: 14.9+ MB\n"
     ]
    },
    {
     "name": "stderr",
     "output_type": "stream",
     "text": [
      "/opt/conda/lib/python3.6/site-packages/IPython/core/interactiveshell.py:2901: DtypeWarning: Columns (13) have mixed types. Specify dtype option on import or set low_memory=False.\n",
      "  if self.run_code(code, result):\n"
     ]
    }
   ],
   "source": [
    "df12=file_open(all_zip[11],all_files[11])[uniq]\n",
    "df12.info()"
   ]
  },
  {
   "cell_type": "markdown",
   "metadata": {
    "slideshow": {
     "slide_type": "skip"
    }
   },
   "source": [
    "The bulk missing values mainly occur in the columns we decided to exclude according to dataset 7. So let's go ahead and drop these columns from the whole dataset"
   ]
  },
  {
   "cell_type": "code",
   "execution_count": 20,
   "metadata": {
    "slideshow": {
     "slide_type": "skip"
    }
   },
   "outputs": [
    {
     "data": {
      "text/html": [
       "<div>\n",
       "<style scoped>\n",
       "    .dataframe tbody tr th:only-of-type {\n",
       "        vertical-align: middle;\n",
       "    }\n",
       "\n",
       "    .dataframe tbody tr th {\n",
       "        vertical-align: top;\n",
       "    }\n",
       "\n",
       "    .dataframe thead th {\n",
       "        text-align: right;\n",
       "    }\n",
       "</style>\n",
       "<table border=\"1\" class=\"dataframe\">\n",
       "  <thead>\n",
       "    <tr style=\"text-align: right;\">\n",
       "      <th></th>\n",
       "      <th>duration_sec</th>\n",
       "      <th>start_time</th>\n",
       "      <th>end_time</th>\n",
       "      <th>start_station_latitude</th>\n",
       "      <th>start_station_longitude</th>\n",
       "      <th>end_station_latitude</th>\n",
       "      <th>end_station_longitude</th>\n",
       "      <th>bike_id</th>\n",
       "      <th>user_type</th>\n",
       "    </tr>\n",
       "  </thead>\n",
       "  <tbody>\n",
       "    <tr>\n",
       "      <th>0</th>\n",
       "      <td>80825</td>\n",
       "      <td>2019-01-31 17:57:44.6130</td>\n",
       "      <td>2019-02-01 16:24:49.8640</td>\n",
       "      <td>37.775745</td>\n",
       "      <td>-122.213037</td>\n",
       "      <td>37.808894</td>\n",
       "      <td>-122.256460</td>\n",
       "      <td>4861</td>\n",
       "      <td>Subscriber</td>\n",
       "    </tr>\n",
       "    <tr>\n",
       "      <th>1</th>\n",
       "      <td>65900</td>\n",
       "      <td>2019-01-31 20:58:33.8860</td>\n",
       "      <td>2019-02-01 15:16:54.1730</td>\n",
       "      <td>37.785881</td>\n",
       "      <td>-122.408915</td>\n",
       "      <td>37.752428</td>\n",
       "      <td>-122.420628</td>\n",
       "      <td>5506</td>\n",
       "      <td>Subscriber</td>\n",
       "    </tr>\n",
       "    <tr>\n",
       "      <th>2</th>\n",
       "      <td>62633</td>\n",
       "      <td>2019-01-31 18:06:52.9240</td>\n",
       "      <td>2019-02-01 11:30:46.5300</td>\n",
       "      <td>37.870139</td>\n",
       "      <td>-122.268422</td>\n",
       "      <td>37.846784</td>\n",
       "      <td>-122.291376</td>\n",
       "      <td>2717</td>\n",
       "      <td>Customer</td>\n",
       "    </tr>\n",
       "    <tr>\n",
       "      <th>3</th>\n",
       "      <td>44680</td>\n",
       "      <td>2019-01-31 19:46:09.7190</td>\n",
       "      <td>2019-02-01 08:10:50.3180</td>\n",
       "      <td>37.770083</td>\n",
       "      <td>-122.429156</td>\n",
       "      <td>37.775946</td>\n",
       "      <td>-122.437777</td>\n",
       "      <td>4557</td>\n",
       "      <td>Customer</td>\n",
       "    </tr>\n",
       "    <tr>\n",
       "      <th>4</th>\n",
       "      <td>60709</td>\n",
       "      <td>2019-01-31 14:19:01.5410</td>\n",
       "      <td>2019-02-01 07:10:51.0650</td>\n",
       "      <td>37.794130</td>\n",
       "      <td>-122.394430</td>\n",
       "      <td>37.787168</td>\n",
       "      <td>-122.388098</td>\n",
       "      <td>2100</td>\n",
       "      <td>Customer</td>\n",
       "    </tr>\n",
       "  </tbody>\n",
       "</table>\n",
       "</div>"
      ],
      "text/plain": [
       "   duration_sec                start_time                  end_time  \\\n",
       "0         80825  2019-01-31 17:57:44.6130  2019-02-01 16:24:49.8640   \n",
       "1         65900  2019-01-31 20:58:33.8860  2019-02-01 15:16:54.1730   \n",
       "2         62633  2019-01-31 18:06:52.9240  2019-02-01 11:30:46.5300   \n",
       "3         44680  2019-01-31 19:46:09.7190  2019-02-01 08:10:50.3180   \n",
       "4         60709  2019-01-31 14:19:01.5410  2019-02-01 07:10:51.0650   \n",
       "\n",
       "   start_station_latitude  start_station_longitude  end_station_latitude  \\\n",
       "0               37.775745              -122.213037             37.808894   \n",
       "1               37.785881              -122.408915             37.752428   \n",
       "2               37.870139              -122.268422             37.846784   \n",
       "3               37.770083              -122.429156             37.775946   \n",
       "4               37.794130              -122.394430             37.787168   \n",
       "\n",
       "   end_station_longitude  bike_id   user_type  \n",
       "0            -122.256460     4861  Subscriber  \n",
       "1            -122.420628     5506  Subscriber  \n",
       "2            -122.291376     2717    Customer  \n",
       "3            -122.437777     4557    Customer  \n",
       "4            -122.388098     2100    Customer  "
      ]
     },
     "execution_count": 20,
     "metadata": {},
     "output_type": "execute_result"
    }
   ],
   "source": [
    "df.drop(['start_station_id','start_station_name','end_station_id','end_station_name'], inplace= True, axis=1)\n",
    "df.head()"
   ]
  },
  {
   "cell_type": "code",
   "execution_count": 21,
   "metadata": {
    "slideshow": {
     "slide_type": "skip"
    }
   },
   "outputs": [
    {
     "data": {
      "text/plain": [
       "9"
      ]
     },
     "execution_count": 21,
     "metadata": {},
     "output_type": "execute_result"
    }
   ],
   "source": [
    "len(df.columns)"
   ]
  },
  {
   "cell_type": "markdown",
   "metadata": {
    "slideshow": {
     "slide_type": "skip"
    }
   },
   "source": [
    "Finally, Let's see the null values after dropping the bulk null columns"
   ]
  },
  {
   "cell_type": "code",
   "execution_count": 22,
   "metadata": {
    "scrolled": false,
    "slideshow": {
     "slide_type": "skip"
    }
   },
   "outputs": [
    {
     "data": {
      "text/plain": [
       "duration_sec               0\n",
       "start_time                 0\n",
       "end_time                   0\n",
       "start_station_latitude     0\n",
       "start_station_longitude    0\n",
       "end_station_latitude       0\n",
       "end_station_longitude      0\n",
       "bike_id                    0\n",
       "user_type                  0\n",
       "dtype: int64"
      ]
     },
     "execution_count": 22,
     "metadata": {},
     "output_type": "execute_result"
    }
   ],
   "source": [
    "df.isnull().sum()"
   ]
  },
  {
   "cell_type": "markdown",
   "metadata": {
    "slideshow": {
     "slide_type": "skip"
    }
   },
   "source": [
    "Now we don't have any missing values so we are done with the first task. Let's move on to the remaining tasks."
   ]
  },
  {
   "cell_type": "code",
   "execution_count": 23,
   "metadata": {
    "slideshow": {
     "slide_type": "skip"
    }
   },
   "outputs": [
    {
     "data": {
      "text/plain": [
       "2506983"
      ]
     },
     "execution_count": 23,
     "metadata": {},
     "output_type": "execute_result"
    }
   ],
   "source": [
    "# We need to ensure there are no duplicate values,\n",
    "\n",
    "len(df)"
   ]
  },
  {
   "cell_type": "code",
   "execution_count": 24,
   "metadata": {
    "slideshow": {
     "slide_type": "skip"
    }
   },
   "outputs": [
    {
     "data": {
      "text/plain": [
       "2506983"
      ]
     },
     "execution_count": 24,
     "metadata": {},
     "output_type": "execute_result"
    }
   ],
   "source": [
    "df.drop_duplicates(inplace=True)\n",
    "\n",
    "len(df)"
   ]
  },
  {
   "cell_type": "markdown",
   "metadata": {
    "slideshow": {
     "slide_type": "skip"
    }
   },
   "source": [
    "It seems there wasn't duplicated values. Let's now split the date & time columns."
   ]
  },
  {
   "cell_type": "code",
   "execution_count": 25,
   "metadata": {
    "slideshow": {
     "slide_type": "skip"
    }
   },
   "outputs": [
    {
     "data": {
      "text/html": [
       "<div>\n",
       "<style scoped>\n",
       "    .dataframe tbody tr th:only-of-type {\n",
       "        vertical-align: middle;\n",
       "    }\n",
       "\n",
       "    .dataframe tbody tr th {\n",
       "        vertical-align: top;\n",
       "    }\n",
       "\n",
       "    .dataframe thead th {\n",
       "        text-align: right;\n",
       "    }\n",
       "</style>\n",
       "<table border=\"1\" class=\"dataframe\">\n",
       "  <thead>\n",
       "    <tr style=\"text-align: right;\">\n",
       "      <th></th>\n",
       "      <th>duration_sec</th>\n",
       "      <th>start_station_latitude</th>\n",
       "      <th>start_station_longitude</th>\n",
       "      <th>end_station_latitude</th>\n",
       "      <th>end_station_longitude</th>\n",
       "      <th>bike_id</th>\n",
       "      <th>user_type</th>\n",
       "      <th>st_date</th>\n",
       "      <th>end_date</th>\n",
       "      <th>st_time</th>\n",
       "      <th>nd_time</th>\n",
       "    </tr>\n",
       "  </thead>\n",
       "  <tbody>\n",
       "    <tr>\n",
       "      <th>0</th>\n",
       "      <td>80825</td>\n",
       "      <td>37.775745</td>\n",
       "      <td>-122.213037</td>\n",
       "      <td>37.808894</td>\n",
       "      <td>-122.25646</td>\n",
       "      <td>4861</td>\n",
       "      <td>Subscriber</td>\n",
       "      <td>2019-01-31</td>\n",
       "      <td>2019-02-01</td>\n",
       "      <td>17:57:44.6130</td>\n",
       "      <td>16:24:49.8640</td>\n",
       "    </tr>\n",
       "  </tbody>\n",
       "</table>\n",
       "</div>"
      ],
      "text/plain": [
       "   duration_sec  start_station_latitude  start_station_longitude  \\\n",
       "0         80825               37.775745              -122.213037   \n",
       "\n",
       "   end_station_latitude  end_station_longitude  bike_id   user_type  \\\n",
       "0             37.808894             -122.25646     4861  Subscriber   \n",
       "\n",
       "      st_date    end_date        st_time        nd_time  \n",
       "0  2019-01-31  2019-02-01  17:57:44.6130  16:24:49.8640  "
      ]
     },
     "execution_count": 25,
     "metadata": {},
     "output_type": "execute_result"
    }
   ],
   "source": [
    "def get_date(txt):\n",
    "    ### Takes a text string containing date & time, returns the date only ###\n",
    "    n_txt=txt.split()[0]\n",
    "    return n_txt\n",
    "\n",
    "df['st_date']=df['start_time'].apply(get_date)\n",
    "df['end_date']=df['end_time'].apply(get_date)\n",
    "\n",
    "def get_time(txt2):\n",
    "    ### Takes a text string containing date & time, returns the time only ###\n",
    "    tm=txt2.split()[1]\n",
    "    return tm\n",
    "\n",
    "df['st_time']=df['start_time'].apply(get_time)\n",
    "df['nd_time']=df['end_time'].apply(get_time)\n",
    "\n",
    "# then drop the old time columns\n",
    "\n",
    "df.drop(['start_time','end_time'], inplace=True, axis=1)\n",
    "\n",
    "df.head(1)"
   ]
  },
  {
   "cell_type": "code",
   "execution_count": 26,
   "metadata": {
    "slideshow": {
     "slide_type": "skip"
    }
   },
   "outputs": [
    {
     "data": {
      "text/html": [
       "<div>\n",
       "<style scoped>\n",
       "    .dataframe tbody tr th:only-of-type {\n",
       "        vertical-align: middle;\n",
       "    }\n",
       "\n",
       "    .dataframe tbody tr th {\n",
       "        vertical-align: top;\n",
       "    }\n",
       "\n",
       "    .dataframe thead th {\n",
       "        text-align: right;\n",
       "    }\n",
       "</style>\n",
       "<table border=\"1\" class=\"dataframe\">\n",
       "  <thead>\n",
       "    <tr style=\"text-align: right;\">\n",
       "      <th></th>\n",
       "      <th>duration_sec</th>\n",
       "      <th>start_station_latitude</th>\n",
       "      <th>start_station_longitude</th>\n",
       "      <th>end_station_latitude</th>\n",
       "      <th>end_station_longitude</th>\n",
       "      <th>bike_id</th>\n",
       "      <th>user_type</th>\n",
       "      <th>st_date</th>\n",
       "      <th>end_date</th>\n",
       "      <th>st_time</th>\n",
       "      <th>nd_time</th>\n",
       "      <th>month</th>\n",
       "    </tr>\n",
       "  </thead>\n",
       "  <tbody>\n",
       "    <tr>\n",
       "      <th>0</th>\n",
       "      <td>80825</td>\n",
       "      <td>37.775745</td>\n",
       "      <td>-122.213037</td>\n",
       "      <td>37.808894</td>\n",
       "      <td>-122.25646</td>\n",
       "      <td>4861</td>\n",
       "      <td>Subscriber</td>\n",
       "      <td>2019-01-31</td>\n",
       "      <td>2019-02-01</td>\n",
       "      <td>17:57:44.6130</td>\n",
       "      <td>16:24:49.8640</td>\n",
       "      <td>02</td>\n",
       "    </tr>\n",
       "  </tbody>\n",
       "</table>\n",
       "</div>"
      ],
      "text/plain": [
       "   duration_sec  start_station_latitude  start_station_longitude  \\\n",
       "0         80825               37.775745              -122.213037   \n",
       "\n",
       "   end_station_latitude  end_station_longitude  bike_id   user_type  \\\n",
       "0             37.808894             -122.25646     4861  Subscriber   \n",
       "\n",
       "      st_date    end_date        st_time        nd_time month  \n",
       "0  2019-01-31  2019-02-01  17:57:44.6130  16:24:49.8640    02  "
      ]
     },
     "execution_count": 26,
     "metadata": {},
     "output_type": "execute_result"
    }
   ],
   "source": [
    "# Now let's extract month from the date and display it in the form of month number,\n",
    "\n",
    "def get_month(dates):\n",
    "    ### Takes a text string containing date, returns the month number ###\n",
    "    mon=dates.split('-')[1]\n",
    "#    month = pd.to_datetime(mon, format='%m').month_name()\n",
    "    return mon\n",
    "df['month']=df['end_date'].apply(get_month)\n",
    "df.head(1)"
   ]
  },
  {
   "cell_type": "code",
   "execution_count": 27,
   "metadata": {
    "slideshow": {
     "slide_type": "skip"
    }
   },
   "outputs": [
    {
     "data": {
      "text/html": [
       "<div>\n",
       "<style scoped>\n",
       "    .dataframe tbody tr th:only-of-type {\n",
       "        vertical-align: middle;\n",
       "    }\n",
       "\n",
       "    .dataframe tbody tr th {\n",
       "        vertical-align: top;\n",
       "    }\n",
       "\n",
       "    .dataframe thead th {\n",
       "        text-align: right;\n",
       "    }\n",
       "</style>\n",
       "<table border=\"1\" class=\"dataframe\">\n",
       "  <thead>\n",
       "    <tr style=\"text-align: right;\">\n",
       "      <th></th>\n",
       "      <th>duration_sec</th>\n",
       "      <th>start_station_latitude</th>\n",
       "      <th>start_station_longitude</th>\n",
       "      <th>end_station_latitude</th>\n",
       "      <th>end_station_longitude</th>\n",
       "      <th>bike_id</th>\n",
       "      <th>user_type</th>\n",
       "      <th>st_date</th>\n",
       "      <th>end_date</th>\n",
       "      <th>st_time</th>\n",
       "      <th>nd_time</th>\n",
       "      <th>month</th>\n",
       "      <th>day</th>\n",
       "    </tr>\n",
       "  </thead>\n",
       "  <tbody>\n",
       "    <tr>\n",
       "      <th>0</th>\n",
       "      <td>80825</td>\n",
       "      <td>37.775745</td>\n",
       "      <td>-122.213037</td>\n",
       "      <td>37.808894</td>\n",
       "      <td>-122.25646</td>\n",
       "      <td>4861</td>\n",
       "      <td>Subscriber</td>\n",
       "      <td>2019-01-31</td>\n",
       "      <td>2019-02-01</td>\n",
       "      <td>17:57:44.6130</td>\n",
       "      <td>16:24:49.8640</td>\n",
       "      <td>02</td>\n",
       "      <td>31</td>\n",
       "    </tr>\n",
       "  </tbody>\n",
       "</table>\n",
       "</div>"
      ],
      "text/plain": [
       "   duration_sec  start_station_latitude  start_station_longitude  \\\n",
       "0         80825               37.775745              -122.213037   \n",
       "\n",
       "   end_station_latitude  end_station_longitude  bike_id   user_type  \\\n",
       "0             37.808894             -122.25646     4861  Subscriber   \n",
       "\n",
       "      st_date    end_date        st_time        nd_time month day  \n",
       "0  2019-01-31  2019-02-01  17:57:44.6130  16:24:49.8640    02  31  "
      ]
     },
     "execution_count": 27,
     "metadata": {},
     "output_type": "execute_result"
    }
   ],
   "source": [
    "def get_day(date):\n",
    "    ### Takes a text string containing date, returns the day number ###\n",
    "    day=date.split('-')[2]\n",
    "    return day\n",
    "df['day']=df['st_date'].apply(get_day)\n",
    "df.head(1)"
   ]
  },
  {
   "cell_type": "markdown",
   "metadata": {
    "slideshow": {
     "slide_type": "skip"
    }
   },
   "source": [
    "Finally, Let's get the name of the day of the month."
   ]
  },
  {
   "cell_type": "code",
   "execution_count": 28,
   "metadata": {
    "slideshow": {
     "slide_type": "skip"
    }
   },
   "outputs": [
    {
     "data": {
      "text/html": [
       "<div>\n",
       "<style scoped>\n",
       "    .dataframe tbody tr th:only-of-type {\n",
       "        vertical-align: middle;\n",
       "    }\n",
       "\n",
       "    .dataframe tbody tr th {\n",
       "        vertical-align: top;\n",
       "    }\n",
       "\n",
       "    .dataframe thead th {\n",
       "        text-align: right;\n",
       "    }\n",
       "</style>\n",
       "<table border=\"1\" class=\"dataframe\">\n",
       "  <thead>\n",
       "    <tr style=\"text-align: right;\">\n",
       "      <th></th>\n",
       "      <th>duration_sec</th>\n",
       "      <th>start_station_latitude</th>\n",
       "      <th>start_station_longitude</th>\n",
       "      <th>end_station_latitude</th>\n",
       "      <th>end_station_longitude</th>\n",
       "      <th>bike_id</th>\n",
       "      <th>user_type</th>\n",
       "      <th>st_date</th>\n",
       "      <th>end_date</th>\n",
       "      <th>st_time</th>\n",
       "      <th>nd_time</th>\n",
       "      <th>month</th>\n",
       "      <th>day</th>\n",
       "      <th>day_name</th>\n",
       "    </tr>\n",
       "  </thead>\n",
       "  <tbody>\n",
       "    <tr>\n",
       "      <th>0</th>\n",
       "      <td>80825</td>\n",
       "      <td>37.775745</td>\n",
       "      <td>-122.213037</td>\n",
       "      <td>37.808894</td>\n",
       "      <td>-122.25646</td>\n",
       "      <td>4861</td>\n",
       "      <td>Subscriber</td>\n",
       "      <td>2019-01-31</td>\n",
       "      <td>2019-02-01</td>\n",
       "      <td>17:57:44.6130</td>\n",
       "      <td>16:24:49.8640</td>\n",
       "      <td>02</td>\n",
       "      <td>31</td>\n",
       "      <td>Wednesday</td>\n",
       "    </tr>\n",
       "  </tbody>\n",
       "</table>\n",
       "</div>"
      ],
      "text/plain": [
       "   duration_sec  start_station_latitude  start_station_longitude  \\\n",
       "0         80825               37.775745              -122.213037   \n",
       "\n",
       "   end_station_latitude  end_station_longitude  bike_id   user_type  \\\n",
       "0             37.808894             -122.25646     4861  Subscriber   \n",
       "\n",
       "      st_date    end_date        st_time        nd_time month day   day_name  \n",
       "0  2019-01-31  2019-02-01  17:57:44.6130  16:24:49.8640    02  31  Wednesday  "
      ]
     },
     "execution_count": 28,
     "metadata": {},
     "output_type": "execute_result"
    }
   ],
   "source": [
    "def get_day_name(date):\n",
    "    ### Takes a text string containing date, returns the day name ###\n",
    "    day=date.split('-')[2]\n",
    "    day_nm = pd.to_datetime(day, format='%d').day_name()\n",
    "    return day_nm\n",
    "df['day_name']=df['st_date'].apply(get_day_name)\n",
    "df.head(1)"
   ]
  },
  {
   "cell_type": "markdown",
   "metadata": {
    "slideshow": {
     "slide_type": "skip"
    }
   },
   "source": [
    "Now that we completed the cleanup phase, let's start our exploration!"
   ]
  },
  {
   "cell_type": "markdown",
   "metadata": {
    "slideshow": {
     "slide_type": "skip"
    }
   },
   "source": [
    "### What is the structure of your dataset?\n",
    "\n",
    "> The dataset structure is tabular tidy format.\n",
    "\n",
    "### What is/are the main feature(s) of interest in your dataset?\n",
    "\n",
    "> ['duration_sec',\n",
    " 'start_time',\n",
    " 'end_time',\n",
    " 'start_station_latitude',\n",
    " 'start_station_longitude',\n",
    " 'end_station_latitude',\n",
    " 'end_station_longitude',\n",
    " 'bike_id',\n",
    " 'user_type']\n",
    "\n",
    "### What features in the dataset do you think will help support your investigation into your feature(s) of interest?\n",
    "\n",
    "> ['duration_sec',\n",
    "    'bike_id',\n",
    " 'start_time',\n",
    " 'end_time',\n",
    " 'user_type']"
   ]
  },
  {
   "cell_type": "markdown",
   "metadata": {
    "slideshow": {
     "slide_type": "skip"
    }
   },
   "source": [
    "## Univariate Exploration"
   ]
  },
  {
   "cell_type": "markdown",
   "metadata": {
    "slideshow": {
     "slide_type": "skip"
    }
   },
   "source": [
    "Now let's start exploring our data. We can start by knowing the count of rides for both user types."
   ]
  },
  {
   "cell_type": "code",
   "execution_count": 29,
   "metadata": {
    "slideshow": {
     "slide_type": "skip"
    }
   },
   "outputs": [
    {
     "data": {
      "text/plain": [
       "Subscriber    2021166\n",
       "Customer       485817\n",
       "Name: user_type, dtype: int64"
      ]
     },
     "execution_count": 29,
     "metadata": {},
     "output_type": "execute_result"
    }
   ],
   "source": [
    "# Let's see the # of customers vs # subscribers\n",
    "df['user_type'].value_counts()"
   ]
  },
  {
   "cell_type": "markdown",
   "metadata": {
    "slideshow": {
     "slide_type": "skip"
    }
   },
   "source": [
    "The majority of rides are made by subscribers. Now let's see the # of rides along the year's months."
   ]
  },
  {
   "cell_type": "markdown",
   "metadata": {
    "slideshow": {
     "slide_type": "slide"
    }
   },
   "source": [
    "(Visualization 1)\n",
    "\n",
    "The aim of this visualization is to see the # of rides along the year's months."
   ]
  },
  {
   "cell_type": "code",
   "execution_count": 30,
   "metadata": {
    "slideshow": {
     "slide_type": "subslide"
    }
   },
   "outputs": [
    {
     "data": {
      "image/png": "[encoded data removed]",
      "text/plain": [
       "<matplotlib.figure.Figure at 0x7fdcefcadf98>"
      ]
     },
     "metadata": {
      "needs_background": "light"
     },
     "output_type": "display_data"
    }
   ],
   "source": [
    "# Now let's plot the count of each month\n",
    "\n",
    "base_color = sb.color_palette()[5]\n",
    "\n",
    "# This is to display the month name to be used in label naming.\n",
    "months_nam=[pd.to_datetime(x, format='%m').month_name() for x in range(1,13)]\n",
    "\n",
    "ax=sb.countplot(data=df, y='month', color=base_color)\n",
    "ax.set_title('2019 Monthly Rides Count')\n",
    "ax.set_yticklabels(months_nam);"
   ]
  },
  {
   "cell_type": "markdown",
   "metadata": {
    "slideshow": {
     "slide_type": "subslide"
    }
   },
   "source": [
    "Nice! so it seems that March & July have the highest number of rides, while December is the lowest."
   ]
  },
  {
   "cell_type": "markdown",
   "metadata": {
    "slideshow": {
     "slide_type": "skip"
    }
   },
   "source": [
    "### Discuss the distribution(s) of your variable(s) of interest. Were there any unusual points? Did you need to perform any transformations?\n",
    "\n",
    "> I investigated the count of rides on monthly basis to check the distribution all over the year. However i didn't need to perform transformations so far because the data seemed smooth and the distribution was normal.\n",
    "\n",
    "### Of the features you investigated, were there any unusual distributions? Did you perform any operations on the data to tidy, adjust, or change the form of the data? If so, why did you do this?\n",
    "\n",
    "> So far the data is normal with no outliers, so i didn't need to do manipulations."
   ]
  },
  {
   "cell_type": "markdown",
   "metadata": {
    "slideshow": {
     "slide_type": "skip"
    }
   },
   "source": [
    "## Bivariate Exploration"
   ]
  },
  {
   "cell_type": "markdown",
   "metadata": {
    "slideshow": {
     "slide_type": "slide"
    }
   },
   "source": [
    "(Visualization 2)\n",
    "\n",
    "Now we need to know the distribution of rides duration for both user types."
   ]
  },
  {
   "cell_type": "code",
   "execution_count": 31,
   "metadata": {
    "scrolled": true,
    "slideshow": {
     "slide_type": "subslide"
    }
   },
   "outputs": [
    {
     "data": {
      "image/png": "[encoded data removed]",
      "text/plain": [
       "<matplotlib.figure.Figure at 0x7fdd3d95edd8>"
      ]
     },
     "metadata": {
      "needs_background": "light"
     },
     "output_type": "display_data"
    }
   ],
   "source": [
    "plt.figure(figsize = [10, 4])\n",
    "ax4=sb.boxplot(data = df, x = 'user_type', y = 'duration_sec', showfliers=False)"
   ]
  },
  {
   "cell_type": "markdown",
   "metadata": {
    "slideshow": {
     "slide_type": "subslide"
    }
   },
   "source": [
    "Although the majority of rides are made by subscribers, It seems that the variability in subscribers rides duration is less than the variability in customers rides duration."
   ]
  },
  {
   "cell_type": "markdown",
   "metadata": {
    "slideshow": {
     "slide_type": "slide"
    }
   },
   "source": [
    "(Visualization 3)\n",
    "\n",
    "This visualization aims to exploring the distribution of rides duration along each month."
   ]
  },
  {
   "cell_type": "code",
   "execution_count": 32,
   "metadata": {
    "slideshow": {
     "slide_type": "skip"
    }
   },
   "outputs": [
    {
     "data": {
      "text/plain": [
       "<matplotlib.axes._subplots.AxesSubplot at 0x7fdcebba15c0>"
      ]
     },
     "execution_count": 32,
     "metadata": {},
     "output_type": "execute_result"
    },
    {
     "data": {
      "image/png": "[encoded data removed]",
      "text/plain": [
       "<matplotlib.figure.Figure at 0x7fdd2f203710>"
      ]
     },
     "metadata": {
      "needs_background": "light"
     },
     "output_type": "display_data"
    }
   ],
   "source": [
    "sb.boxplot(data = df, x = 'month', y = 'duration_sec', color = base_color)"
   ]
  },
  {
   "cell_type": "markdown",
   "metadata": {
    "slideshow": {
     "slide_type": "skip"
    }
   },
   "source": [
    "It seems that December has an outlier that impacts the way our plot is displayed. Let's find more about it."
   ]
  },
  {
   "cell_type": "code",
   "execution_count": 33,
   "metadata": {
    "slideshow": {
     "slide_type": "skip"
    }
   },
   "outputs": [
    {
     "data": {
      "text/plain": [
       "124395    912110\n",
       "28656      86230\n",
       "91145      85523\n",
       "11342      84819\n",
       "52105      84323\n",
       "Name: duration_sec, dtype: int64"
      ]
     },
     "execution_count": 33,
     "metadata": {},
     "output_type": "execute_result"
    }
   ],
   "source": [
    "dec=df[df['month']=='12']\n",
    "dec['duration_sec'].sort_values(ascending=False)[0:5]"
   ]
  },
  {
   "cell_type": "markdown",
   "metadata": {
    "slideshow": {
     "slide_type": "skip"
    }
   },
   "source": [
    "So the first value is extremely high. let's exclude it from our plot."
   ]
  },
  {
   "cell_type": "code",
   "execution_count": 34,
   "metadata": {
    "scrolled": true,
    "slideshow": {
     "slide_type": "subslide"
    }
   },
   "outputs": [
    {
     "data": {
      "image/png": "[encoded data removed]",
      "text/plain": [
       "<matplotlib.figure.Figure at 0x7fdceba557b8>"
      ]
     },
     "metadata": {
      "needs_background": "light"
     },
     "output_type": "display_data"
    }
   ],
   "source": [
    "plt.figure(figsize = [12, 4])\n",
    "plt.rcParams[\"axes.labelsize\"] = 12\n",
    "ax2=sb.boxplot(data = df, x = 'month', y = 'duration_sec', color = base_color, showfliers=False)\n",
    "ax2.set_xticklabels(months_nam, rotation= 45)\n",
    "ax2.set_title('The Distribution of Rides Duration');"
   ]
  },
  {
   "cell_type": "markdown",
   "metadata": {
    "slideshow": {
     "slide_type": "subslide"
    }
   },
   "source": [
    "Well the distribution seems uniform with no extremes along the months."
   ]
  },
  {
   "cell_type": "markdown",
   "metadata": {
    "slideshow": {
     "slide_type": "slide"
    }
   },
   "source": [
    "(Visualization 4)\n",
    "\n",
    "Let's explore the rides count distribution after adding the user_type."
   ]
  },
  {
   "cell_type": "code",
   "execution_count": 35,
   "metadata": {
    "slideshow": {
     "slide_type": "subslide"
    }
   },
   "outputs": [
    {
     "data": {
      "image/png": "[encoded data removed]",
      "text/plain": [
       "<matplotlib.figure.Figure at 0x7fdceba75c50>"
      ]
     },
     "metadata": {
      "needs_background": "light"
     },
     "output_type": "display_data"
    }
   ],
   "source": [
    "plt.figure(figsize = [10, 4])\n",
    "ax3=sb.countplot(data = df, x = 'month', hue ='user_type')\n",
    "ax3.set_xticklabels(months_nam, rotation= 90)\n",
    "ax3.set_title('Rides Count per Month for Different Users Types');"
   ]
  },
  {
   "cell_type": "markdown",
   "metadata": {
    "slideshow": {
     "slide_type": "subslide"
    }
   },
   "source": [
    "It is noticed that there is a huge gap between the # of subscribers and # of customers rides along the year. However, for December the number of both subscribers and customers rides are nearly equal with a huge drop in the number of subscribers trips from previous months. I would recommend the company make promotions for subscribers to encourage them to take more trips during December in case further analyses were made for different years and the results showed similar conclusion."
   ]
  },
  {
   "cell_type": "markdown",
   "metadata": {
    "slideshow": {
     "slide_type": "slide"
    }
   },
   "source": [
    "(Visualization 5)\n",
    "\n",
    "Now Let's check the count of rides trend per each day of the month."
   ]
  },
  {
   "cell_type": "code",
   "execution_count": 36,
   "metadata": {
    "scrolled": true,
    "slideshow": {
     "slide_type": "skip"
    }
   },
   "outputs": [
    {
     "data": {
      "text/html": [
       "<div>\n",
       "<style scoped>\n",
       "    .dataframe tbody tr th:only-of-type {\n",
       "        vertical-align: middle;\n",
       "    }\n",
       "\n",
       "    .dataframe tbody tr th {\n",
       "        vertical-align: top;\n",
       "    }\n",
       "\n",
       "    .dataframe thead th {\n",
       "        text-align: right;\n",
       "    }\n",
       "</style>\n",
       "<table border=\"1\" class=\"dataframe\">\n",
       "  <thead>\n",
       "    <tr style=\"text-align: right;\">\n",
       "      <th>month</th>\n",
       "      <th>day</th>\n",
       "      <th>01</th>\n",
       "      <th>02</th>\n",
       "      <th>03</th>\n",
       "      <th>04</th>\n",
       "      <th>05</th>\n",
       "      <th>06</th>\n",
       "      <th>07</th>\n",
       "      <th>08</th>\n",
       "      <th>09</th>\n",
       "      <th>10</th>\n",
       "      <th>11</th>\n",
       "      <th>12</th>\n",
       "    </tr>\n",
       "  </thead>\n",
       "  <tbody>\n",
       "    <tr>\n",
       "      <th>26</th>\n",
       "      <td>27</td>\n",
       "      <td>4984.0</td>\n",
       "      <td>7715.0</td>\n",
       "      <td>9798.0</td>\n",
       "      <td>4229.0</td>\n",
       "      <td>3139.0</td>\n",
       "      <td>7543.0</td>\n",
       "      <td>9384.0</td>\n",
       "      <td>8407.0</td>\n",
       "      <td>7768.0</td>\n",
       "      <td>3794.0</td>\n",
       "      <td>3678.0</td>\n",
       "      <td>3654.0</td>\n",
       "    </tr>\n",
       "    <tr>\n",
       "      <th>27</th>\n",
       "      <td>28</td>\n",
       "      <td>9417.0</td>\n",
       "      <td>9813.0</td>\n",
       "      <td>9912.0</td>\n",
       "      <td>3706.0</td>\n",
       "      <td>7057.0</td>\n",
       "      <td>7023.0</td>\n",
       "      <td>8695.0</td>\n",
       "      <td>8341.0</td>\n",
       "      <td>4719.0</td>\n",
       "      <td>8052.0</td>\n",
       "      <td>1397.0</td>\n",
       "      <td>3091.0</td>\n",
       "    </tr>\n",
       "    <tr>\n",
       "      <th>28</th>\n",
       "      <td>29</td>\n",
       "      <td>9539.0</td>\n",
       "      <td>NaN</td>\n",
       "      <td>10018.0</td>\n",
       "      <td>7146.0</td>\n",
       "      <td>7658.0</td>\n",
       "      <td>4218.0</td>\n",
       "      <td>11692.0</td>\n",
       "      <td>8136.0</td>\n",
       "      <td>4317.0</td>\n",
       "      <td>8694.0</td>\n",
       "      <td>1931.0</td>\n",
       "      <td>1432.0</td>\n",
       "    </tr>\n",
       "    <tr>\n",
       "      <th>29</th>\n",
       "      <td>30</td>\n",
       "      <td>9370.0</td>\n",
       "      <td>NaN</td>\n",
       "      <td>7010.0</td>\n",
       "      <td>7613.0</td>\n",
       "      <td>7138.0</td>\n",
       "      <td>3863.0</td>\n",
       "      <td>11990.0</td>\n",
       "      <td>6956.0</td>\n",
       "      <td>8278.0</td>\n",
       "      <td>8706.0</td>\n",
       "      <td>1075.0</td>\n",
       "      <td>4457.0</td>\n",
       "    </tr>\n",
       "    <tr>\n",
       "      <th>30</th>\n",
       "      <td>31</td>\n",
       "      <td>9364.0</td>\n",
       "      <td>17.0</td>\n",
       "      <td>6636.0</td>\n",
       "      <td>21.0</td>\n",
       "      <td>6924.0</td>\n",
       "      <td>13.0</td>\n",
       "      <td>9975.0</td>\n",
       "      <td>3853.0</td>\n",
       "      <td>26.0</td>\n",
       "      <td>8021.0</td>\n",
       "      <td>19.0</td>\n",
       "      <td>4297.0</td>\n",
       "    </tr>\n",
       "  </tbody>\n",
       "</table>\n",
       "</div>"
      ],
      "text/plain": [
       "month day      01      02       03      04      05      06       07      08  \\\n",
       "26     27  4984.0  7715.0   9798.0  4229.0  3139.0  7543.0   9384.0  8407.0   \n",
       "27     28  9417.0  9813.0   9912.0  3706.0  7057.0  7023.0   8695.0  8341.0   \n",
       "28     29  9539.0     NaN  10018.0  7146.0  7658.0  4218.0  11692.0  8136.0   \n",
       "29     30  9370.0     NaN   7010.0  7613.0  7138.0  3863.0  11990.0  6956.0   \n",
       "30     31  9364.0    17.0   6636.0    21.0  6924.0    13.0   9975.0  3853.0   \n",
       "\n",
       "month      09      10      11      12  \n",
       "26     7768.0  3794.0  3678.0  3654.0  \n",
       "27     4719.0  8052.0  1397.0  3091.0  \n",
       "28     4317.0  8694.0  1931.0  1432.0  \n",
       "29     8278.0  8706.0  1075.0  4457.0  \n",
       "30       26.0  8021.0    19.0  4297.0  "
      ]
     },
     "execution_count": 36,
     "metadata": {},
     "output_type": "execute_result"
    }
   ],
   "source": [
    "# I will use the count of daily rides for each day and see the monthly trend\n",
    "\n",
    "per_day=df.pivot_table(index='day', columns='month', aggfunc='count',dropna=True)['bike_id'].reset_index()\n",
    "per_day.tail()"
   ]
  },
  {
   "cell_type": "markdown",
   "metadata": {
    "slideshow": {
     "slide_type": "skip"
    }
   },
   "source": [
    "It drew my attention that during February, 29 and 30 are NaN, It is expected as 2019 wasn't a leap year. Now let's melt the data to form a column with the month number."
   ]
  },
  {
   "cell_type": "code",
   "execution_count": 37,
   "metadata": {
    "slideshow": {
     "slide_type": "skip"
    }
   },
   "outputs": [
    {
     "data": {
      "text/html": [
       "<div>\n",
       "<style scoped>\n",
       "    .dataframe tbody tr th:only-of-type {\n",
       "        vertical-align: middle;\n",
       "    }\n",
       "\n",
       "    .dataframe tbody tr th {\n",
       "        vertical-align: top;\n",
       "    }\n",
       "\n",
       "    .dataframe thead th {\n",
       "        text-align: right;\n",
       "    }\n",
       "</style>\n",
       "<table border=\"1\" class=\"dataframe\">\n",
       "  <thead>\n",
       "    <tr style=\"text-align: right;\">\n",
       "      <th></th>\n",
       "      <th>day</th>\n",
       "      <th>month</th>\n",
       "      <th>value</th>\n",
       "    </tr>\n",
       "  </thead>\n",
       "  <tbody>\n",
       "    <tr>\n",
       "      <th>0</th>\n",
       "      <td>01</td>\n",
       "      <td>01</td>\n",
       "      <td>2437.0</td>\n",
       "    </tr>\n",
       "    <tr>\n",
       "      <th>1</th>\n",
       "      <td>02</td>\n",
       "      <td>01</td>\n",
       "      <td>5820.0</td>\n",
       "    </tr>\n",
       "    <tr>\n",
       "      <th>2</th>\n",
       "      <td>03</td>\n",
       "      <td>01</td>\n",
       "      <td>6351.0</td>\n",
       "    </tr>\n",
       "    <tr>\n",
       "      <th>3</th>\n",
       "      <td>04</td>\n",
       "      <td>01</td>\n",
       "      <td>6447.0</td>\n",
       "    </tr>\n",
       "    <tr>\n",
       "      <th>4</th>\n",
       "      <td>05</td>\n",
       "      <td>01</td>\n",
       "      <td>2119.0</td>\n",
       "    </tr>\n",
       "  </tbody>\n",
       "</table>\n",
       "</div>"
      ],
      "text/plain": [
       "  day month   value\n",
       "0  01    01  2437.0\n",
       "1  02    01  5820.0\n",
       "2  03    01  6351.0\n",
       "3  04    01  6447.0\n",
       "4  05    01  2119.0"
      ]
     },
     "execution_count": 37,
     "metadata": {},
     "output_type": "execute_result"
    }
   ],
   "source": [
    "mltd=pd.melt(per_day, id_vars=['day'], value_vars= list(per_day.columns)[1:]).dropna(axis=0)\n",
    "mltd.head()"
   ]
  },
  {
   "cell_type": "code",
   "execution_count": 38,
   "metadata": {
    "slideshow": {
     "slide_type": "skip"
    }
   },
   "outputs": [
    {
     "name": "stdout",
     "output_type": "stream",
     "text": [
      "<class 'pandas.core.frame.DataFrame'>\n",
      "Int64Index: 370 entries, 0 to 371\n",
      "Data columns (total 3 columns):\n",
      "day      370 non-null object\n",
      "month    370 non-null object\n",
      "value    370 non-null float64\n",
      "dtypes: float64(1), object(2)\n",
      "memory usage: 11.6+ KB\n"
     ]
    }
   ],
   "source": [
    "mltd.info()"
   ]
  },
  {
   "cell_type": "markdown",
   "metadata": {
    "slideshow": {
     "slide_type": "skip"
    }
   },
   "source": [
    "Let's change the data types to 'int' to be able to plot them."
   ]
  },
  {
   "cell_type": "code",
   "execution_count": 39,
   "metadata": {
    "slideshow": {
     "slide_type": "skip"
    }
   },
   "outputs": [],
   "source": [
    "mltd[['day','month']]=mltd[['day','month']].astype(int)"
   ]
  },
  {
   "cell_type": "code",
   "execution_count": 40,
   "metadata": {
    "slideshow": {
     "slide_type": "skip"
    }
   },
   "outputs": [
    {
     "name": "stdout",
     "output_type": "stream",
     "text": [
      "<class 'pandas.core.frame.DataFrame'>\n",
      "Int64Index: 370 entries, 0 to 371\n",
      "Data columns (total 3 columns):\n",
      "day      370 non-null int64\n",
      "month    370 non-null int64\n",
      "value    370 non-null float64\n",
      "dtypes: float64(1), int64(2)\n",
      "memory usage: 11.6 KB\n"
     ]
    }
   ],
   "source": [
    "mltd.info()"
   ]
  },
  {
   "cell_type": "markdown",
   "metadata": {
    "slideshow": {
     "slide_type": "skip"
    }
   },
   "source": [
    "Good. Now let's visualize our data!"
   ]
  },
  {
   "cell_type": "code",
   "execution_count": 41,
   "metadata": {
    "slideshow": {
     "slide_type": "subslide"
    }
   },
   "outputs": [
    {
     "data": {
      "image/png": "[encoded data removed]",
      "text/plain": [
       "<matplotlib.figure.Figure at 0x7fdcebc19c88>"
      ]
     },
     "metadata": {
      "needs_background": "light"
     },
     "output_type": "display_data"
    }
   ],
   "source": [
    "plt.figure(figsize = (12,5))\n",
    "ax5=sb.pointplot( data=mltd, x='day', y='value',dodge = 0.3, color='green')\n",
    "ax5.set_title('The Distribution of Daily Rides Count Among Months');\n",
    "ax5.set_xlabel('Day of the Month')\n",
    "ax5.set_ylabel('Daily Rides Count');"
   ]
  },
  {
   "cell_type": "markdown",
   "metadata": {
    "slideshow": {
     "slide_type": "subslide"
    }
   },
   "source": [
    "This plot reveals the monthly days with high volume of rides like 11 & 12, and the days with lowest # of rides like 31. However we need to put into consideration that nearly half of the months don't have a 31st day, so this explains the large variability in this day."
   ]
  },
  {
   "cell_type": "markdown",
   "metadata": {
    "slideshow": {
     "slide_type": "skip"
    }
   },
   "source": [
    "Another factor that we might be interested in looking at is the user type. Subscribers may be aware of the bikes and prefer to use certain ones, while customers may select any available one. Let's see if this true or not."
   ]
  },
  {
   "cell_type": "code",
   "execution_count": 42,
   "metadata": {
    "slideshow": {
     "slide_type": "skip"
    }
   },
   "outputs": [
    {
     "data": {
      "text/plain": [
       "(2.22, 0.55)"
      ]
     },
     "execution_count": 42,
     "metadata": {},
     "output_type": "execute_result"
    }
   ],
   "source": [
    "cst=(df[df['user_type']=='Customer'])\n",
    "unq_cst=cst['bike_id'].nunique()\n",
    "\n",
    "sub=(df[df['user_type']=='Subscriber'])\n",
    "unq_sub=sub['bike_id'].nunique()\n",
    "\n",
    "cust=round(unq_cst*100/len(cst),2)\n",
    "uniq=round(unq_sub*100/len(sub),2)\n",
    "(cust,uniq)"
   ]
  },
  {
   "cell_type": "markdown",
   "metadata": {
    "slideshow": {
     "slide_type": "skip"
    }
   },
   "source": [
    "So our assumption was true! The analysis says that for customers, the % of unique bikes is 2.2% while it is 0.5% only for subscribers. This says that subscribers tend to use certain bikes out of their experience, while customers select any available one."
   ]
  },
  {
   "cell_type": "markdown",
   "metadata": {
    "slideshow": {
     "slide_type": "skip"
    }
   },
   "source": [
    "### Talk about some of the relationships you observed in this part of the investigation. How did the feature(s) of interest vary with other features in the dataset?\n",
    "\n",
    "> My main features of interest were the rides count and rides duration. I was trying to explore the relationship between both of them and the time the rides were made in.\n",
    "### Did you observe any interesting relationships between the other features (not the main feature(s) of interest)?\n",
    "\n",
    "> When i investigated the factor of user type, i found the variability in subscribers rides duration is less than the variability in customers rides duration although the share in subscribers rides count is much more than customers.\n"
   ]
  },
  {
   "cell_type": "markdown",
   "metadata": {
    "slideshow": {
     "slide_type": "skip"
    }
   },
   "source": [
    "## Multivariate Exploration"
   ]
  },
  {
   "cell_type": "markdown",
   "metadata": {
    "slideshow": {
     "slide_type": "slide"
    }
   },
   "source": [
    "(Visualization 6)\n",
    "\n",
    "Now let's see how rides are distributed among the week days."
   ]
  },
  {
   "cell_type": "code",
   "execution_count": 43,
   "metadata": {
    "scrolled": true,
    "slideshow": {
     "slide_type": "skip"
    }
   },
   "outputs": [
    {
     "data": {
      "text/html": [
       "<div>\n",
       "<style scoped>\n",
       "    .dataframe tbody tr th:only-of-type {\n",
       "        vertical-align: middle;\n",
       "    }\n",
       "\n",
       "    .dataframe tbody tr th {\n",
       "        vertical-align: top;\n",
       "    }\n",
       "\n",
       "    .dataframe thead tr th {\n",
       "        text-align: left;\n",
       "    }\n",
       "</style>\n",
       "<table border=\"1\" class=\"dataframe\">\n",
       "  <thead>\n",
       "    <tr>\n",
       "      <th></th>\n",
       "      <th>day_name</th>\n",
       "      <th colspan=\"2\" halign=\"left\">duration_sec</th>\n",
       "    </tr>\n",
       "    <tr>\n",
       "      <th></th>\n",
       "      <th></th>\n",
       "      <th>mean</th>\n",
       "      <th>len</th>\n",
       "    </tr>\n",
       "  </thead>\n",
       "  <tbody>\n",
       "    <tr>\n",
       "      <th>0</th>\n",
       "      <td>Friday</td>\n",
       "      <td>800.611373</td>\n",
       "      <td>346162</td>\n",
       "    </tr>\n",
       "    <tr>\n",
       "      <th>1</th>\n",
       "      <td>Monday</td>\n",
       "      <td>787.526600</td>\n",
       "      <td>399983</td>\n",
       "    </tr>\n",
       "    <tr>\n",
       "      <th>2</th>\n",
       "      <td>Saturday</td>\n",
       "      <td>824.065631</td>\n",
       "      <td>317580</td>\n",
       "    </tr>\n",
       "    <tr>\n",
       "      <th>3</th>\n",
       "      <td>Sunday</td>\n",
       "      <td>813.762231</td>\n",
       "      <td>328188</td>\n",
       "    </tr>\n",
       "    <tr>\n",
       "      <th>4</th>\n",
       "      <td>Thursday</td>\n",
       "      <td>793.228332</td>\n",
       "      <td>346355</td>\n",
       "    </tr>\n",
       "    <tr>\n",
       "      <th>5</th>\n",
       "      <td>Tuesday</td>\n",
       "      <td>817.680600</td>\n",
       "      <td>392073</td>\n",
       "    </tr>\n",
       "    <tr>\n",
       "      <th>6</th>\n",
       "      <td>Wednesday</td>\n",
       "      <td>819.131430</td>\n",
       "      <td>376642</td>\n",
       "    </tr>\n",
       "  </tbody>\n",
       "</table>\n",
       "</div>"
      ],
      "text/plain": [
       "    day_name duration_sec        \n",
       "                     mean     len\n",
       "0     Friday   800.611373  346162\n",
       "1     Monday   787.526600  399983\n",
       "2   Saturday   824.065631  317580\n",
       "3     Sunday   813.762231  328188\n",
       "4   Thursday   793.228332  346355\n",
       "5    Tuesday   817.680600  392073\n",
       "6  Wednesday   819.131430  376642"
      ]
     },
     "execution_count": 43,
     "metadata": {},
     "output_type": "execute_result"
    }
   ],
   "source": [
    "weekday=df.groupby('day_name').agg({'duration_sec':[np.mean, len]}).reset_index()\n",
    "weekday"
   ]
  },
  {
   "cell_type": "code",
   "execution_count": 44,
   "metadata": {
    "slideshow": {
     "slide_type": "skip"
    }
   },
   "outputs": [
    {
     "data": {
      "text/html": [
       "<div>\n",
       "<style scoped>\n",
       "    .dataframe tbody tr th:only-of-type {\n",
       "        vertical-align: middle;\n",
       "    }\n",
       "\n",
       "    .dataframe tbody tr th {\n",
       "        vertical-align: top;\n",
       "    }\n",
       "\n",
       "    .dataframe thead th {\n",
       "        text-align: right;\n",
       "    }\n",
       "</style>\n",
       "<table border=\"1\" class=\"dataframe\">\n",
       "  <thead>\n",
       "    <tr style=\"text-align: right;\">\n",
       "      <th></th>\n",
       "      <th>day_name</th>\n",
       "      <th>duration_mean</th>\n",
       "      <th>#rides</th>\n",
       "      <th>day#</th>\n",
       "    </tr>\n",
       "  </thead>\n",
       "  <tbody>\n",
       "    <tr>\n",
       "      <th>1</th>\n",
       "      <td>Monday</td>\n",
       "      <td>787.526600</td>\n",
       "      <td>399983</td>\n",
       "      <td>1</td>\n",
       "    </tr>\n",
       "    <tr>\n",
       "      <th>5</th>\n",
       "      <td>Tuesday</td>\n",
       "      <td>817.680600</td>\n",
       "      <td>392073</td>\n",
       "      <td>2</td>\n",
       "    </tr>\n",
       "    <tr>\n",
       "      <th>6</th>\n",
       "      <td>Wednesday</td>\n",
       "      <td>819.131430</td>\n",
       "      <td>376642</td>\n",
       "      <td>3</td>\n",
       "    </tr>\n",
       "    <tr>\n",
       "      <th>4</th>\n",
       "      <td>Thursday</td>\n",
       "      <td>793.228332</td>\n",
       "      <td>346355</td>\n",
       "      <td>4</td>\n",
       "    </tr>\n",
       "    <tr>\n",
       "      <th>0</th>\n",
       "      <td>Friday</td>\n",
       "      <td>800.611373</td>\n",
       "      <td>346162</td>\n",
       "      <td>5</td>\n",
       "    </tr>\n",
       "    <tr>\n",
       "      <th>2</th>\n",
       "      <td>Saturday</td>\n",
       "      <td>824.065631</td>\n",
       "      <td>317580</td>\n",
       "      <td>6</td>\n",
       "    </tr>\n",
       "    <tr>\n",
       "      <th>3</th>\n",
       "      <td>Sunday</td>\n",
       "      <td>813.762231</td>\n",
       "      <td>328188</td>\n",
       "      <td>7</td>\n",
       "    </tr>\n",
       "  </tbody>\n",
       "</table>\n",
       "</div>"
      ],
      "text/plain": [
       "    day_name  duration_mean  #rides  day#\n",
       "1     Monday     787.526600  399983     1\n",
       "5    Tuesday     817.680600  392073     2\n",
       "6  Wednesday     819.131430  376642     3\n",
       "4   Thursday     793.228332  346355     4\n",
       "0     Friday     800.611373  346162     5\n",
       "2   Saturday     824.065631  317580     6\n",
       "3     Sunday     813.762231  328188     7"
      ]
     },
     "execution_count": 44,
     "metadata": {},
     "output_type": "execute_result"
    }
   ],
   "source": [
    "dys=np.arange(1,8,1)\n",
    "dname=dict([(pd.to_datetime(d, format='%d').day_name(),d) for d in dys])\n",
    "\n",
    "weekday['day#']=weekday['day_name'].apply(lambda x : dname[x], dname)\n",
    "weekday.sort_values(by='day#',inplace=True)\n",
    "weekday.columns=['day_name','duration_mean','#rides','day#']\n",
    "weekday"
   ]
  },
  {
   "cell_type": "code",
   "execution_count": 45,
   "metadata": {
    "scrolled": true,
    "slideshow": {
     "slide_type": "subslide"
    }
   },
   "outputs": [
    {
     "data": {
      "image/png": "[encoded data removed]",
      "text/plain": [
       "<matplotlib.figure.Figure at 0x7fdceb83be80>"
      ]
     },
     "metadata": {
      "needs_background": "light"
     },
     "output_type": "display_data"
    }
   ],
   "source": [
    "ds=weekday['day_name']\n",
    "mean_rng=np.arange(0,1000,100)\n",
    "\n",
    "ax7=sb.barplot(x='day_name', y='#rides',data=weekday, color='steelblue')\n",
    "plt.title('Week Day Rides Count and Duration Mean')\n",
    "ax7.set_xticklabels(weekday['day_name'],rotation= 45);\n",
    "\n",
    "ax8 = ax7.twinx()\n",
    "ax8.scatter(x=np.arange(0,7,1), y='duration_mean' ,data=weekday, color='Orange')\n",
    "ax8.set_ylabel('Mean Rides', color='orange');\n",
    "plt.ylim(400, 850);"
   ]
  },
  {
   "cell_type": "markdown",
   "metadata": {
    "slideshow": {
     "slide_type": "subslide"
    }
   },
   "source": [
    "It seems that Monday has the highest number of rides with lowest mean duration, while Saturday is the least in number of rides with highest duration. mostly due to being the weekend. This information could help the business owners know when the peak and off-peak times are in terms of both aspects (Rides count & mean) and capitalize on this to increase their profitability."
   ]
  },
  {
   "cell_type": "markdown",
   "metadata": {
    "slideshow": {
     "slide_type": "slide"
    }
   },
   "source": [
    "(Visualization 7)\n",
    "\n",
    "Now i want to have a look on each bike id and see how the mean of rides duration relates to the number of rides."
   ]
  },
  {
   "cell_type": "code",
   "execution_count": 46,
   "metadata": {
    "scrolled": true,
    "slideshow": {
     "slide_type": "skip"
    }
   },
   "outputs": [
    {
     "data": {
      "text/html": [
       "<div>\n",
       "<style scoped>\n",
       "    .dataframe tbody tr th:only-of-type {\n",
       "        vertical-align: middle;\n",
       "    }\n",
       "\n",
       "    .dataframe tbody tr th {\n",
       "        vertical-align: top;\n",
       "    }\n",
       "\n",
       "    .dataframe thead th {\n",
       "        text-align: right;\n",
       "    }\n",
       "</style>\n",
       "<table border=\"1\" class=\"dataframe\">\n",
       "  <thead>\n",
       "    <tr style=\"text-align: right;\">\n",
       "      <th></th>\n",
       "      <th>durations_mean</th>\n",
       "      <th>rides_count</th>\n",
       "    </tr>\n",
       "    <tr>\n",
       "      <th>bike_id</th>\n",
       "      <th></th>\n",
       "      <th></th>\n",
       "    </tr>\n",
       "  </thead>\n",
       "  <tbody>\n",
       "    <tr>\n",
       "      <th>6181</th>\n",
       "      <td>12219.400000</td>\n",
       "      <td>5</td>\n",
       "    </tr>\n",
       "    <tr>\n",
       "      <th>614329</th>\n",
       "      <td>10547.913978</td>\n",
       "      <td>93</td>\n",
       "    </tr>\n",
       "    <tr>\n",
       "      <th>925110</th>\n",
       "      <td>9931.000000</td>\n",
       "      <td>5</td>\n",
       "    </tr>\n",
       "    <tr>\n",
       "      <th>3499</th>\n",
       "      <td>7083.625000</td>\n",
       "      <td>8</td>\n",
       "    </tr>\n",
       "    <tr>\n",
       "      <th>239704</th>\n",
       "      <td>5900.750000</td>\n",
       "      <td>4</td>\n",
       "    </tr>\n",
       "  </tbody>\n",
       "</table>\n",
       "</div>"
      ],
      "text/plain": [
       "         durations_mean  rides_count\n",
       "bike_id                             \n",
       "6181       12219.400000            5\n",
       "614329     10547.913978           93\n",
       "925110      9931.000000            5\n",
       "3499        7083.625000            8\n",
       "239704      5900.750000            4"
      ]
     },
     "execution_count": 46,
     "metadata": {},
     "output_type": "execute_result"
    }
   ],
   "source": [
    "# I will start by grouping the data by the bike_id and get the mean of rides duration and count of rides for each bike\n",
    "\n",
    "usage=df.groupby('bike_id').agg({'duration_sec': [np.mean,len]})\n",
    "usage.columns=['durations_mean','rides_count']\n",
    "usage=usage.sort_values(by=['durations_mean'], ascending=False)\n",
    "usage.head()"
   ]
  },
  {
   "cell_type": "code",
   "execution_count": 47,
   "metadata": {
    "slideshow": {
     "slide_type": "skip"
    }
   },
   "outputs": [
    {
     "data": {
      "image/png": "[encoded data removed]",
      "text/plain": [
       "<matplotlib.figure.Figure at 0x7fdce7984470>"
      ]
     },
     "metadata": {
      "needs_background": "light"
     },
     "output_type": "display_data"
    }
   ],
   "source": [
    "plt.figure(figsize = [15, 6])\n",
    "plt.scatter(data=usage, x='rides_count', y='durations_mean',alpha=0.3);"
   ]
  },
  {
   "cell_type": "markdown",
   "metadata": {
    "slideshow": {
     "slide_type": "skip"
    }
   },
   "source": [
    "There might be a negative correlation between rides duration and the number of rides. But let's exclude outliers by doing a log transformation for the y-Axis values and re-render our plot for a clearer view."
   ]
  },
  {
   "cell_type": "code",
   "execution_count": 48,
   "metadata": {
    "slideshow": {
     "slide_type": "subslide"
    }
   },
   "outputs": [
    {
     "data": {
      "image/png": "[encoded data removed]",
      "text/plain": [
       "<matplotlib.figure.Figure at 0x7fdce79cd0b8>"
      ]
     },
     "metadata": {
      "needs_background": "light"
     },
     "output_type": "display_data"
    }
   ],
   "source": [
    "plt.figure(figsize = [12, 5])\n",
    "ax6=sb.regplot(data=usage, x='rides_count', y='durations_mean', marker='x', color='salmon')\n",
    "ax6.set_yscale('log')\n",
    "plt.title('The relation between Rides Count and Duration Mean Per Bike');"
   ]
  },
  {
   "cell_type": "markdown",
   "metadata": {
    "slideshow": {
     "slide_type": "subslide"
    }
   },
   "source": [
    "The first impression one might think of is that it is normal to have more # of rides count if the mean is less because bikes have more availability for use since the rides finish quickly. But it is also strange to find that the relation is symmetric and have some bikes with both low mean duration and low number of rides. However to investigate more in this point, we would require more details about the the bikes performance and specs."
   ]
  },
  {
   "cell_type": "markdown",
   "metadata": {
    "slideshow": {
     "slide_type": "skip"
    }
   },
   "source": [
    "### Talk about some of the relationships you observed in this part of the investigation. Were there features that strengthened each other in terms of looking at your feature(s) of interest?\n",
    "\n",
    "> In this part, i checked the relation between both the rides count and mean duration features and how they relate to other features like the bike ID and week day. I don't think there were features that strengthened each other.\n",
    "\n",
    "### Were there any interesting or surprising interactions between features?\n",
    "\n",
    "> The relation between bike ID, rides count and rides mean was surprising because i thought it would be one direction relationship, either positive or negative, however the plot showed a different view."
   ]
  },
  {
   "cell_type": "markdown",
   "metadata": {
    "slideshow": {
     "slide_type": "slide"
    }
   },
   "source": [
    "Thank You"
   ]
  }
 ],
 "metadata": {
  "celltoolbar": "Slideshow",
  "kernelspec": {
   "display_name": "Python 3",
   "language": "python",
   "name": "python3"
  },
  "language_info": {
   "codemirror_mode": {
    "name": "ipython",
    "version": 3
   },
   "file_extension": ".py",
   "mimetype": "text/x-python",
   "name": "python",
   "nbconvert_exporter": "python",
   "pygments_lexer": "ipython3",
   "version": "3.6.3"
  }
 },
 "nbformat": 4,
 "nbformat_minor": 2
}
